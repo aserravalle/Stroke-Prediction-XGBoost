{
 "cells": [
  {
   "cell_type": "markdown",
   "metadata": {
    "colab_type": "text",
    "id": "UbR-4kE7vlrz"
   },
   "source": [
    "# Dependencies"
   ]
  },
  {
   "cell_type": "code",
   "execution_count": 9,
   "metadata": {
    "colab": {},
    "colab_type": "code",
    "id": "mSMwxt46tQQa"
   },
   "outputs": [],
   "source": [
    "###Load in the required packages \n",
    "\n",
    "#for linear algebra\n",
    "import numpy as np\n",
    "\n",
    "#for data manipulation\n",
    "import pandas as pd\n",
    "\n",
    "from tqdm import tqdm_notebook as tqdm\n",
    "\n",
    "import warnings\n",
    "warnings.filterwarnings(\"ignore\")"
   ]
  },
  {
   "cell_type": "code",
   "execution_count": 10,
   "metadata": {
    "colab": {},
    "colab_type": "code",
    "id": "rJLjWyMn3mnv"
   },
   "outputs": [],
   "source": [
    "train = pd.read_csv('train_clean.csv')\n",
    "test = pd.read_csv('test_clean.csv')\n",
    "train.drop('Unnamed: 0', axis = 1,inplace = True)"
   ]
  },
  {
   "cell_type": "markdown",
   "metadata": {},
   "source": [
    "# Load data"
   ]
  },
  {
   "cell_type": "code",
   "execution_count": 11,
   "metadata": {
    "colab": {
     "base_uri": "https://localhost:8080/",
     "height": 239
    },
    "colab_type": "code",
    "executionInfo": {
     "elapsed": 722,
     "status": "ok",
     "timestamp": 1563669953919,
     "user": {
      "displayName": "Ariel Serravalle",
      "photoUrl": "https://lh4.googleusercontent.com/-suAtWhIByqA/AAAAAAAAAAI/AAAAAAAANh8/1VNRBfDQJ3E/s64/photo.jpg",
      "userId": "14429275652589207839"
     },
     "user_tz": -600
    },
    "id": "vmdHydCL8OtW",
    "outputId": "f12e0cac-855e-4987-d543-b73a8bb81f02"
   },
   "outputs": [
    {
     "data": {
      "text/html": [
       "<div>\n",
       "<style scoped>\n",
       "    .dataframe tbody tr th:only-of-type {\n",
       "        vertical-align: middle;\n",
       "    }\n",
       "\n",
       "    .dataframe tbody tr th {\n",
       "        vertical-align: top;\n",
       "    }\n",
       "\n",
       "    .dataframe thead th {\n",
       "        text-align: right;\n",
       "    }\n",
       "</style>\n",
       "<table border=\"1\" class=\"dataframe\">\n",
       "  <thead>\n",
       "    <tr style=\"text-align: right;\">\n",
       "      <th></th>\n",
       "      <th>id</th>\n",
       "      <th>high_BP</th>\n",
       "      <th>heart_condition_detected_2017</th>\n",
       "      <th>married</th>\n",
       "      <th>average_blood_sugar</th>\n",
       "      <th>BMI</th>\n",
       "      <th>TreatmentA</th>\n",
       "      <th>TreatmentB</th>\n",
       "      <th>TreatmentC</th>\n",
       "      <th>TreatmentD</th>\n",
       "      <th>...</th>\n",
       "      <th>Quit</th>\n",
       "      <th>NonSmoker</th>\n",
       "      <th>ActiveSmoker</th>\n",
       "      <th>Job: Gov</th>\n",
       "      <th>Job: Pvt</th>\n",
       "      <th>Job: Bus</th>\n",
       "      <th>Job: Unemp</th>\n",
       "      <th>Job: Parental</th>\n",
       "      <th>Loc: City</th>\n",
       "      <th>Loc: Remote</th>\n",
       "    </tr>\n",
       "  </thead>\n",
       "  <tbody>\n",
       "    <tr>\n",
       "      <th>0</th>\n",
       "      <td>16053</td>\n",
       "      <td>1.0</td>\n",
       "      <td>0.0</td>\n",
       "      <td>1.0</td>\n",
       "      <td>71.67</td>\n",
       "      <td>36.6</td>\n",
       "      <td>0.0</td>\n",
       "      <td>0.0</td>\n",
       "      <td>0.0</td>\n",
       "      <td>0.0</td>\n",
       "      <td>...</td>\n",
       "      <td>0.0</td>\n",
       "      <td>1.0</td>\n",
       "      <td>0.0</td>\n",
       "      <td>1.0</td>\n",
       "      <td>0.0</td>\n",
       "      <td>0.0</td>\n",
       "      <td>0.0</td>\n",
       "      <td>0.0</td>\n",
       "      <td>0.0</td>\n",
       "      <td>1.0</td>\n",
       "    </tr>\n",
       "    <tr>\n",
       "      <th>1</th>\n",
       "      <td>1459</td>\n",
       "      <td>0.0</td>\n",
       "      <td>0.0</td>\n",
       "      <td>0.0</td>\n",
       "      <td>107.95</td>\n",
       "      <td>30.4</td>\n",
       "      <td>0.0</td>\n",
       "      <td>0.0</td>\n",
       "      <td>0.0</td>\n",
       "      <td>0.0</td>\n",
       "      <td>...</td>\n",
       "      <td>1.0</td>\n",
       "      <td>0.0</td>\n",
       "      <td>0.0</td>\n",
       "      <td>0.0</td>\n",
       "      <td>1.0</td>\n",
       "      <td>0.0</td>\n",
       "      <td>0.0</td>\n",
       "      <td>0.0</td>\n",
       "      <td>0.0</td>\n",
       "      <td>1.0</td>\n",
       "    </tr>\n",
       "    <tr>\n",
       "      <th>2</th>\n",
       "      <td>7678</td>\n",
       "      <td>1.0</td>\n",
       "      <td>0.0</td>\n",
       "      <td>1.0</td>\n",
       "      <td>76.49</td>\n",
       "      <td>42.1</td>\n",
       "      <td>0.0</td>\n",
       "      <td>0.0</td>\n",
       "      <td>0.0</td>\n",
       "      <td>0.0</td>\n",
       "      <td>...</td>\n",
       "      <td>0.0</td>\n",
       "      <td>0.0</td>\n",
       "      <td>1.0</td>\n",
       "      <td>1.0</td>\n",
       "      <td>0.0</td>\n",
       "      <td>0.0</td>\n",
       "      <td>0.0</td>\n",
       "      <td>0.0</td>\n",
       "      <td>0.0</td>\n",
       "      <td>1.0</td>\n",
       "    </tr>\n",
       "    <tr>\n",
       "      <th>3</th>\n",
       "      <td>34943</td>\n",
       "      <td>0.0</td>\n",
       "      <td>0.0</td>\n",
       "      <td>1.0</td>\n",
       "      <td>113.98</td>\n",
       "      <td>57.3</td>\n",
       "      <td>0.0</td>\n",
       "      <td>0.0</td>\n",
       "      <td>0.0</td>\n",
       "      <td>0.0</td>\n",
       "      <td>...</td>\n",
       "      <td>1.0</td>\n",
       "      <td>0.0</td>\n",
       "      <td>0.0</td>\n",
       "      <td>1.0</td>\n",
       "      <td>0.0</td>\n",
       "      <td>0.0</td>\n",
       "      <td>0.0</td>\n",
       "      <td>0.0</td>\n",
       "      <td>1.0</td>\n",
       "      <td>0.0</td>\n",
       "    </tr>\n",
       "    <tr>\n",
       "      <th>4</th>\n",
       "      <td>17741</td>\n",
       "      <td>0.0</td>\n",
       "      <td>0.0</td>\n",
       "      <td>0.0</td>\n",
       "      <td>70.60</td>\n",
       "      <td>26.7</td>\n",
       "      <td>0.0</td>\n",
       "      <td>0.0</td>\n",
       "      <td>0.0</td>\n",
       "      <td>0.0</td>\n",
       "      <td>...</td>\n",
       "      <td>0.0</td>\n",
       "      <td>0.0</td>\n",
       "      <td>1.0</td>\n",
       "      <td>0.0</td>\n",
       "      <td>1.0</td>\n",
       "      <td>0.0</td>\n",
       "      <td>0.0</td>\n",
       "      <td>0.0</td>\n",
       "      <td>1.0</td>\n",
       "      <td>0.0</td>\n",
       "    </tr>\n",
       "  </tbody>\n",
       "</table>\n",
       "<p>5 rows × 25 columns</p>\n",
       "</div>"
      ],
      "text/plain": [
       "      id  high_BP  heart_condition_detected_2017  married  \\\n",
       "0  16053      1.0                            0.0      1.0   \n",
       "1   1459      0.0                            0.0      0.0   \n",
       "2   7678      1.0                            0.0      1.0   \n",
       "3  34943      0.0                            0.0      1.0   \n",
       "4  17741      0.0                            0.0      0.0   \n",
       "\n",
       "   average_blood_sugar   BMI  TreatmentA  TreatmentB  TreatmentC  TreatmentD  \\\n",
       "0                71.67  36.6         0.0         0.0         0.0         0.0   \n",
       "1               107.95  30.4         0.0         0.0         0.0         0.0   \n",
       "2                76.49  42.1         0.0         0.0         0.0         0.0   \n",
       "3               113.98  57.3         0.0         0.0         0.0         0.0   \n",
       "4                70.60  26.7         0.0         0.0         0.0         0.0   \n",
       "\n",
       "      ...       Quit  NonSmoker  ActiveSmoker  Job: Gov  Job: Pvt  Job: Bus  \\\n",
       "0     ...        0.0        1.0           0.0       1.0       0.0       0.0   \n",
       "1     ...        1.0        0.0           0.0       0.0       1.0       0.0   \n",
       "2     ...        0.0        0.0           1.0       1.0       0.0       0.0   \n",
       "3     ...        1.0        0.0           0.0       1.0       0.0       0.0   \n",
       "4     ...        0.0        0.0           1.0       0.0       1.0       0.0   \n",
       "\n",
       "   Job: Unemp  Job: Parental  Loc: City  Loc: Remote  \n",
       "0         0.0            0.0        0.0          1.0  \n",
       "1         0.0            0.0        0.0          1.0  \n",
       "2         0.0            0.0        0.0          1.0  \n",
       "3         0.0            0.0        1.0          0.0  \n",
       "4         0.0            0.0        1.0          0.0  \n",
       "\n",
       "[5 rows x 25 columns]"
      ]
     },
     "execution_count": 11,
     "metadata": {},
     "output_type": "execute_result"
    }
   ],
   "source": [
    "train.head()"
   ]
  },
  {
   "cell_type": "code",
   "execution_count": 12,
   "metadata": {
    "colab": {
     "base_uri": "https://localhost:8080/",
     "height": 239
    },
    "colab_type": "code",
    "executionInfo": {
     "elapsed": 787,
     "status": "ok",
     "timestamp": 1563669954865,
     "user": {
      "displayName": "Ariel Serravalle",
      "photoUrl": "https://lh4.googleusercontent.com/-suAtWhIByqA/AAAAAAAAAAI/AAAAAAAANh8/1VNRBfDQJ3E/s64/photo.jpg",
      "userId": "14429275652589207839"
     },
     "user_tz": -600
    },
    "id": "cSj0H3PQ8VTe",
    "outputId": "3f0ff26f-c960-4e04-9d75-40cb3f880238"
   },
   "outputs": [
    {
     "data": {
      "text/html": [
       "<div>\n",
       "<style scoped>\n",
       "    .dataframe tbody tr th:only-of-type {\n",
       "        vertical-align: middle;\n",
       "    }\n",
       "\n",
       "    .dataframe tbody tr th {\n",
       "        vertical-align: top;\n",
       "    }\n",
       "\n",
       "    .dataframe thead th {\n",
       "        text-align: right;\n",
       "    }\n",
       "</style>\n",
       "<table border=\"1\" class=\"dataframe\">\n",
       "  <thead>\n",
       "    <tr style=\"text-align: right;\">\n",
       "      <th></th>\n",
       "      <th>id</th>\n",
       "      <th>high_BP</th>\n",
       "      <th>heart_condition_detected_2017</th>\n",
       "      <th>married</th>\n",
       "      <th>average_blood_sugar</th>\n",
       "      <th>BMI</th>\n",
       "      <th>TreatmentA</th>\n",
       "      <th>TreatmentB</th>\n",
       "      <th>TreatmentC</th>\n",
       "      <th>TreatmentD</th>\n",
       "      <th>...</th>\n",
       "      <th>Quit</th>\n",
       "      <th>NonSmoker</th>\n",
       "      <th>ActiveSmoker</th>\n",
       "      <th>Job: Gov</th>\n",
       "      <th>Job: Pvt</th>\n",
       "      <th>Job: Bus</th>\n",
       "      <th>Job: Unemp</th>\n",
       "      <th>Job: Parental</th>\n",
       "      <th>Loc: City</th>\n",
       "      <th>Loc: Remote</th>\n",
       "    </tr>\n",
       "  </thead>\n",
       "  <tbody>\n",
       "    <tr>\n",
       "      <th>0</th>\n",
       "      <td>33327</td>\n",
       "      <td>0.0</td>\n",
       "      <td>0.0</td>\n",
       "      <td>1.0</td>\n",
       "      <td>76.05</td>\n",
       "      <td>33.4</td>\n",
       "      <td>0.0</td>\n",
       "      <td>0.0</td>\n",
       "      <td>0.0</td>\n",
       "      <td>0.0</td>\n",
       "      <td>...</td>\n",
       "      <td>0.0</td>\n",
       "      <td>0.0</td>\n",
       "      <td>1.0</td>\n",
       "      <td>0.0</td>\n",
       "      <td>1.0</td>\n",
       "      <td>0.0</td>\n",
       "      <td>0.0</td>\n",
       "      <td>0.0</td>\n",
       "      <td>0.0</td>\n",
       "      <td>1.0</td>\n",
       "    </tr>\n",
       "    <tr>\n",
       "      <th>1</th>\n",
       "      <td>839</td>\n",
       "      <td>0.0</td>\n",
       "      <td>0.0</td>\n",
       "      <td>1.0</td>\n",
       "      <td>73.77</td>\n",
       "      <td>30.1</td>\n",
       "      <td>0.0</td>\n",
       "      <td>0.0</td>\n",
       "      <td>0.0</td>\n",
       "      <td>0.0</td>\n",
       "      <td>...</td>\n",
       "      <td>0.0</td>\n",
       "      <td>1.0</td>\n",
       "      <td>0.0</td>\n",
       "      <td>1.0</td>\n",
       "      <td>0.0</td>\n",
       "      <td>0.0</td>\n",
       "      <td>0.0</td>\n",
       "      <td>0.0</td>\n",
       "      <td>1.0</td>\n",
       "      <td>0.0</td>\n",
       "    </tr>\n",
       "    <tr>\n",
       "      <th>2</th>\n",
       "      <td>11127</td>\n",
       "      <td>0.0</td>\n",
       "      <td>0.0</td>\n",
       "      <td>1.0</td>\n",
       "      <td>62.95</td>\n",
       "      <td>30.8</td>\n",
       "      <td>0.0</td>\n",
       "      <td>0.0</td>\n",
       "      <td>0.0</td>\n",
       "      <td>0.0</td>\n",
       "      <td>...</td>\n",
       "      <td>0.0</td>\n",
       "      <td>1.0</td>\n",
       "      <td>0.0</td>\n",
       "      <td>0.0</td>\n",
       "      <td>0.0</td>\n",
       "      <td>1.0</td>\n",
       "      <td>0.0</td>\n",
       "      <td>0.0</td>\n",
       "      <td>0.0</td>\n",
       "      <td>1.0</td>\n",
       "    </tr>\n",
       "    <tr>\n",
       "      <th>3</th>\n",
       "      <td>20768</td>\n",
       "      <td>0.0</td>\n",
       "      <td>0.0</td>\n",
       "      <td>1.0</td>\n",
       "      <td>68.81</td>\n",
       "      <td>36.5</td>\n",
       "      <td>0.0</td>\n",
       "      <td>0.0</td>\n",
       "      <td>0.0</td>\n",
       "      <td>0.0</td>\n",
       "      <td>...</td>\n",
       "      <td>1.0</td>\n",
       "      <td>0.0</td>\n",
       "      <td>0.0</td>\n",
       "      <td>0.0</td>\n",
       "      <td>1.0</td>\n",
       "      <td>0.0</td>\n",
       "      <td>0.0</td>\n",
       "      <td>0.0</td>\n",
       "      <td>1.0</td>\n",
       "      <td>0.0</td>\n",
       "    </tr>\n",
       "    <tr>\n",
       "      <th>4</th>\n",
       "      <td>37774</td>\n",
       "      <td>0.0</td>\n",
       "      <td>0.0</td>\n",
       "      <td>0.0</td>\n",
       "      <td>122.89</td>\n",
       "      <td>30.8</td>\n",
       "      <td>0.0</td>\n",
       "      <td>0.0</td>\n",
       "      <td>0.0</td>\n",
       "      <td>0.0</td>\n",
       "      <td>...</td>\n",
       "      <td>0.0</td>\n",
       "      <td>0.0</td>\n",
       "      <td>1.0</td>\n",
       "      <td>0.0</td>\n",
       "      <td>1.0</td>\n",
       "      <td>0.0</td>\n",
       "      <td>0.0</td>\n",
       "      <td>0.0</td>\n",
       "      <td>1.0</td>\n",
       "      <td>0.0</td>\n",
       "    </tr>\n",
       "  </tbody>\n",
       "</table>\n",
       "<p>5 rows × 24 columns</p>\n",
       "</div>"
      ],
      "text/plain": [
       "      id  high_BP  heart_condition_detected_2017  married  \\\n",
       "0  33327      0.0                            0.0      1.0   \n",
       "1    839      0.0                            0.0      1.0   \n",
       "2  11127      0.0                            0.0      1.0   \n",
       "3  20768      0.0                            0.0      1.0   \n",
       "4  37774      0.0                            0.0      0.0   \n",
       "\n",
       "   average_blood_sugar   BMI  TreatmentA  TreatmentB  TreatmentC  TreatmentD  \\\n",
       "0                76.05  33.4         0.0         0.0         0.0         0.0   \n",
       "1                73.77  30.1         0.0         0.0         0.0         0.0   \n",
       "2                62.95  30.8         0.0         0.0         0.0         0.0   \n",
       "3                68.81  36.5         0.0         0.0         0.0         0.0   \n",
       "4               122.89  30.8         0.0         0.0         0.0         0.0   \n",
       "\n",
       "      ...       Quit  NonSmoker  ActiveSmoker  Job: Gov  Job: Pvt  Job: Bus  \\\n",
       "0     ...        0.0        0.0           1.0       0.0       1.0       0.0   \n",
       "1     ...        0.0        1.0           0.0       1.0       0.0       0.0   \n",
       "2     ...        0.0        1.0           0.0       0.0       0.0       1.0   \n",
       "3     ...        1.0        0.0           0.0       0.0       1.0       0.0   \n",
       "4     ...        0.0        0.0           1.0       0.0       1.0       0.0   \n",
       "\n",
       "   Job: Unemp  Job: Parental  Loc: City  Loc: Remote  \n",
       "0         0.0            0.0        0.0          1.0  \n",
       "1         0.0            0.0        1.0          0.0  \n",
       "2         0.0            0.0        0.0          1.0  \n",
       "3         0.0            0.0        1.0          0.0  \n",
       "4         0.0            0.0        1.0          0.0  \n",
       "\n",
       "[5 rows x 24 columns]"
      ]
     },
     "execution_count": 12,
     "metadata": {},
     "output_type": "execute_result"
    }
   ],
   "source": [
    "test.head()"
   ]
  },
  {
   "cell_type": "code",
   "execution_count": 13,
   "metadata": {
    "colab": {},
    "colab_type": "code",
    "id": "lL5m6giQNNA9"
   },
   "outputs": [],
   "source": [
    "train =train[~train.isin([np.nan, np.inf, -np.inf]).any(1)]\n",
    "test =test[~test.isin([np.nan, np.inf, -np.inf]).any(1)]"
   ]
  },
  {
   "cell_type": "markdown",
   "metadata": {},
   "source": [
    "# Define Submission Function"
   ]
  },
  {
   "cell_type": "code",
   "execution_count": 215,
   "metadata": {},
   "outputs": [],
   "source": [
    "def submit(predictions, threshold = 0.05):\n",
    "    \n",
    "    # Create submission table\n",
    "    submission = test[['id']]\n",
    "    submission['stroke_in_2018'] = predictions\n",
    "    \n",
    "    # Where set predictions equal to 0 or 1 based on threshold\n",
    "    submission['stroke_in_2018'] = np.where(submission['stroke_in_2018'] > threshold, 1, 0)\n",
    "    \n",
    "    # Define submission as a global variable so you can get details\n",
    "    globals()['submission'] = submission\n",
    "    \n",
    "    # Save\n",
    "    submission.to_csv('submission.csv', index = False)\n",
    "    \n",
    "    # Print the head of the submission\n",
    "    return submission.head(10)"
   ]
  },
  {
   "cell_type": "markdown",
   "metadata": {
    "colab_type": "text",
    "id": "H05w1s60azX8"
   },
   "source": [
    "# Basic Models\n",
    "Basic ML sklearn classifiers. These sucked."
   ]
  },
  {
   "cell_type": "code",
   "execution_count": 96,
   "metadata": {
    "colab": {},
    "colab_type": "code",
    "id": "9qqZkn8uEmiS"
   },
   "outputs": [],
   "source": [
    "y_train = train[['stroke_in_2018']]\n",
    "x_train = train.drop('stroke_in_2018', axis = 1)"
   ]
  },
  {
   "cell_type": "code",
   "execution_count": 97,
   "metadata": {},
   "outputs": [
    {
     "data": {
      "text/html": [
       "<div>\n",
       "<style scoped>\n",
       "    .dataframe tbody tr th:only-of-type {\n",
       "        vertical-align: middle;\n",
       "    }\n",
       "\n",
       "    .dataframe tbody tr th {\n",
       "        vertical-align: top;\n",
       "    }\n",
       "\n",
       "    .dataframe thead th {\n",
       "        text-align: right;\n",
       "    }\n",
       "</style>\n",
       "<table border=\"1\" class=\"dataframe\">\n",
       "  <thead>\n",
       "    <tr style=\"text-align: right;\">\n",
       "      <th></th>\n",
       "      <th>stroke_in_2018</th>\n",
       "    </tr>\n",
       "  </thead>\n",
       "  <tbody>\n",
       "    <tr>\n",
       "      <th>0</th>\n",
       "      <td>0.0</td>\n",
       "    </tr>\n",
       "    <tr>\n",
       "      <th>1</th>\n",
       "      <td>0.0</td>\n",
       "    </tr>\n",
       "    <tr>\n",
       "      <th>2</th>\n",
       "      <td>0.0</td>\n",
       "    </tr>\n",
       "    <tr>\n",
       "      <th>3</th>\n",
       "      <td>0.0</td>\n",
       "    </tr>\n",
       "    <tr>\n",
       "      <th>4</th>\n",
       "      <td>0.0</td>\n",
       "    </tr>\n",
       "  </tbody>\n",
       "</table>\n",
       "</div>"
      ],
      "text/plain": [
       "   stroke_in_2018\n",
       "0             0.0\n",
       "1             0.0\n",
       "2             0.0\n",
       "3             0.0\n",
       "4             0.0"
      ]
     },
     "execution_count": 97,
     "metadata": {},
     "output_type": "execute_result"
    }
   ],
   "source": [
    "y_train.head()    "
   ]
  },
  {
   "cell_type": "code",
   "execution_count": 109,
   "metadata": {
    "colab": {
     "base_uri": "https://localhost:8080/",
     "height": 106
    },
    "colab_type": "code",
    "executionInfo": {
     "elapsed": 5393,
     "status": "ok",
     "timestamp": 1563644185267,
     "user": {
      "displayName": "Ariel Serravalle",
      "photoUrl": "https://lh4.googleusercontent.com/-suAtWhIByqA/AAAAAAAAAAI/AAAAAAAANh8/1VNRBfDQJ3E/s64/photo.jpg",
      "userId": "14429275652589207839"
     },
     "user_tz": -600
    },
    "id": "okB6sh1nTyP-",
    "outputId": "f821f205-0d64-4b31-811a-25ca8eab33c6"
   },
   "outputs": [
    {
     "name": "stdout",
     "output_type": "stream",
     "text": [
      "<class 'numpy.ndarray'>\n"
     ]
    }
   ],
   "source": [
    "#import libraries\n",
    "from sklearn import tree\n",
    "from sklearn.naive_bayes import GaussianNB as GNB\n",
    "\n",
    "# create a variable to store the decision tree model, then train it on the data set above\n",
    "clf_tree = tree.DecisionTreeClassifier().fit(x_train,y_train)\n",
    "clf_gnb = GNB().fit(x_train,y_train)\n",
    "\n",
    "# and one to predict for a given x observed\n",
    "yhat_tree = clf_tree.predict(test)\n",
    "yhat_gnb = clf_gnb.predict(test)"
   ]
  },
  {
   "cell_type": "code",
   "execution_count": 112,
   "metadata": {
    "colab": {
     "base_uri": "https://localhost:8080/",
     "height": 807
    },
    "colab_type": "code",
    "executionInfo": {
     "elapsed": 1373,
     "status": "ok",
     "timestamp": 1563644335013,
     "user": {
      "displayName": "Ariel Serravalle",
      "photoUrl": "https://lh4.googleusercontent.com/-suAtWhIByqA/AAAAAAAAAAI/AAAAAAAANh8/1VNRBfDQJ3E/s64/photo.jpg",
      "userId": "14429275652589207839"
     },
     "user_tz": -600
    },
    "id": "jEDk9ipEbG0-",
    "outputId": "a6d5473b-cc59-49e1-e6c0-1e9c5d4fec4b"
   },
   "outputs": [
    {
     "data": {
      "text/html": [
       "<div>\n",
       "<style scoped>\n",
       "    .dataframe tbody tr th:only-of-type {\n",
       "        vertical-align: middle;\n",
       "    }\n",
       "\n",
       "    .dataframe tbody tr th {\n",
       "        vertical-align: top;\n",
       "    }\n",
       "\n",
       "    .dataframe thead th {\n",
       "        text-align: right;\n",
       "    }\n",
       "</style>\n",
       "<table border=\"1\" class=\"dataframe\">\n",
       "  <thead>\n",
       "    <tr style=\"text-align: right;\">\n",
       "      <th></th>\n",
       "      <th>id</th>\n",
       "      <th>stroke_in_2018</th>\n",
       "    </tr>\n",
       "  </thead>\n",
       "  <tbody>\n",
       "    <tr>\n",
       "      <th>0</th>\n",
       "      <td>33327</td>\n",
       "      <td>0.0</td>\n",
       "    </tr>\n",
       "    <tr>\n",
       "      <th>1</th>\n",
       "      <td>839</td>\n",
       "      <td>0.0</td>\n",
       "    </tr>\n",
       "    <tr>\n",
       "      <th>2</th>\n",
       "      <td>11127</td>\n",
       "      <td>0.0</td>\n",
       "    </tr>\n",
       "    <tr>\n",
       "      <th>3</th>\n",
       "      <td>20768</td>\n",
       "      <td>0.0</td>\n",
       "    </tr>\n",
       "    <tr>\n",
       "      <th>4</th>\n",
       "      <td>37774</td>\n",
       "      <td>0.0</td>\n",
       "    </tr>\n",
       "    <tr>\n",
       "      <th>5</th>\n",
       "      <td>4283</td>\n",
       "      <td>0.0</td>\n",
       "    </tr>\n",
       "    <tr>\n",
       "      <th>6</th>\n",
       "      <td>13832</td>\n",
       "      <td>0.0</td>\n",
       "    </tr>\n",
       "    <tr>\n",
       "      <th>7</th>\n",
       "      <td>4579</td>\n",
       "      <td>0.0</td>\n",
       "    </tr>\n",
       "    <tr>\n",
       "      <th>8</th>\n",
       "      <td>26781</td>\n",
       "      <td>0.0</td>\n",
       "    </tr>\n",
       "    <tr>\n",
       "      <th>9</th>\n",
       "      <td>17196</td>\n",
       "      <td>0.0</td>\n",
       "    </tr>\n",
       "  </tbody>\n",
       "</table>\n",
       "</div>"
      ],
      "text/plain": [
       "      id  stroke_in_2018\n",
       "0  33327             0.0\n",
       "1    839             0.0\n",
       "2  11127             0.0\n",
       "3  20768             0.0\n",
       "4  37774             0.0\n",
       "5   4283             0.0\n",
       "6  13832             0.0\n",
       "7   4579             0.0\n",
       "8  26781             0.0\n",
       "9  17196             0.0"
      ]
     },
     "execution_count": 112,
     "metadata": {},
     "output_type": "execute_result"
    }
   ],
   "source": [
    "submit(yhat_tree, 0.03)"
   ]
  },
  {
   "cell_type": "code",
   "execution_count": 102,
   "metadata": {},
   "outputs": [
    {
     "data": {
      "text/html": [
       "<div>\n",
       "<style scoped>\n",
       "    .dataframe tbody tr th:only-of-type {\n",
       "        vertical-align: middle;\n",
       "    }\n",
       "\n",
       "    .dataframe tbody tr th {\n",
       "        vertical-align: top;\n",
       "    }\n",
       "\n",
       "    .dataframe thead th {\n",
       "        text-align: right;\n",
       "    }\n",
       "</style>\n",
       "<table border=\"1\" class=\"dataframe\">\n",
       "  <thead>\n",
       "    <tr style=\"text-align: right;\">\n",
       "      <th></th>\n",
       "      <th>id</th>\n",
       "      <th>stroke_in_2018</th>\n",
       "    </tr>\n",
       "  </thead>\n",
       "  <tbody>\n",
       "    <tr>\n",
       "      <th>count</th>\n",
       "      <td>8718.000000</td>\n",
       "      <td>8718.000000</td>\n",
       "    </tr>\n",
       "    <tr>\n",
       "      <th>mean</th>\n",
       "      <td>21711.645102</td>\n",
       "      <td>0.021335</td>\n",
       "    </tr>\n",
       "    <tr>\n",
       "      <th>std</th>\n",
       "      <td>12653.568917</td>\n",
       "      <td>0.144507</td>\n",
       "    </tr>\n",
       "    <tr>\n",
       "      <th>min</th>\n",
       "      <td>0.000000</td>\n",
       "      <td>0.000000</td>\n",
       "    </tr>\n",
       "    <tr>\n",
       "      <th>25%</th>\n",
       "      <td>10741.500000</td>\n",
       "      <td>0.000000</td>\n",
       "    </tr>\n",
       "    <tr>\n",
       "      <th>50%</th>\n",
       "      <td>21764.500000</td>\n",
       "      <td>0.000000</td>\n",
       "    </tr>\n",
       "    <tr>\n",
       "      <th>75%</th>\n",
       "      <td>32644.750000</td>\n",
       "      <td>0.000000</td>\n",
       "    </tr>\n",
       "    <tr>\n",
       "      <th>max</th>\n",
       "      <td>43580.000000</td>\n",
       "      <td>1.000000</td>\n",
       "    </tr>\n",
       "  </tbody>\n",
       "</table>\n",
       "</div>"
      ],
      "text/plain": [
       "                 id  stroke_in_2018\n",
       "count   8718.000000     8718.000000\n",
       "mean   21711.645102        0.021335\n",
       "std    12653.568917        0.144507\n",
       "min        0.000000        0.000000\n",
       "25%    10741.500000        0.000000\n",
       "50%    21764.500000        0.000000\n",
       "75%    32644.750000        0.000000\n",
       "max    43580.000000        1.000000"
      ]
     },
     "execution_count": 102,
     "metadata": {},
     "output_type": "execute_result"
    }
   ],
   "source": [
    "submission.describe()"
   ]
  },
  {
   "cell_type": "code",
   "execution_count": 103,
   "metadata": {
    "colab": {
     "base_uri": "https://localhost:8080/",
     "height": 807
    },
    "colab_type": "code",
    "executionInfo": {
     "elapsed": 1672,
     "status": "ok",
     "timestamp": 1563644309720,
     "user": {
      "displayName": "Ariel Serravalle",
      "photoUrl": "https://lh4.googleusercontent.com/-suAtWhIByqA/AAAAAAAAAAI/AAAAAAAANh8/1VNRBfDQJ3E/s64/photo.jpg",
      "userId": "14429275652589207839"
     },
     "user_tz": -600
    },
    "id": "h8PAAZi8bPia",
    "outputId": "27c4f080-7933-40fc-bb73-db3a751b5f20"
   },
   "outputs": [
    {
     "data": {
      "text/html": [
       "<div>\n",
       "<style scoped>\n",
       "    .dataframe tbody tr th:only-of-type {\n",
       "        vertical-align: middle;\n",
       "    }\n",
       "\n",
       "    .dataframe tbody tr th {\n",
       "        vertical-align: top;\n",
       "    }\n",
       "\n",
       "    .dataframe thead th {\n",
       "        text-align: right;\n",
       "    }\n",
       "</style>\n",
       "<table border=\"1\" class=\"dataframe\">\n",
       "  <thead>\n",
       "    <tr style=\"text-align: right;\">\n",
       "      <th></th>\n",
       "      <th>id</th>\n",
       "      <th>stroke_in_2018</th>\n",
       "    </tr>\n",
       "  </thead>\n",
       "  <tbody>\n",
       "    <tr>\n",
       "      <th>0</th>\n",
       "      <td>33327</td>\n",
       "      <td>0.0</td>\n",
       "    </tr>\n",
       "    <tr>\n",
       "      <th>1</th>\n",
       "      <td>839</td>\n",
       "      <td>0.0</td>\n",
       "    </tr>\n",
       "    <tr>\n",
       "      <th>2</th>\n",
       "      <td>11127</td>\n",
       "      <td>0.0</td>\n",
       "    </tr>\n",
       "    <tr>\n",
       "      <th>3</th>\n",
       "      <td>20768</td>\n",
       "      <td>0.0</td>\n",
       "    </tr>\n",
       "    <tr>\n",
       "      <th>4</th>\n",
       "      <td>37774</td>\n",
       "      <td>0.0</td>\n",
       "    </tr>\n",
       "    <tr>\n",
       "      <th>5</th>\n",
       "      <td>4283</td>\n",
       "      <td>0.0</td>\n",
       "    </tr>\n",
       "    <tr>\n",
       "      <th>6</th>\n",
       "      <td>13832</td>\n",
       "      <td>0.0</td>\n",
       "    </tr>\n",
       "    <tr>\n",
       "      <th>7</th>\n",
       "      <td>4579</td>\n",
       "      <td>0.0</td>\n",
       "    </tr>\n",
       "    <tr>\n",
       "      <th>8</th>\n",
       "      <td>26781</td>\n",
       "      <td>0.0</td>\n",
       "    </tr>\n",
       "    <tr>\n",
       "      <th>9</th>\n",
       "      <td>17196</td>\n",
       "      <td>0.0</td>\n",
       "    </tr>\n",
       "  </tbody>\n",
       "</table>\n",
       "</div>"
      ],
      "text/plain": [
       "      id  stroke_in_2018\n",
       "0  33327             0.0\n",
       "1    839             0.0\n",
       "2  11127             0.0\n",
       "3  20768             0.0\n",
       "4  37774             0.0\n",
       "5   4283             0.0\n",
       "6  13832             0.0\n",
       "7   4579             0.0\n",
       "8  26781             0.0\n",
       "9  17196             0.0"
      ]
     },
     "execution_count": 103,
     "metadata": {},
     "output_type": "execute_result"
    }
   ],
   "source": [
    "submit(yhat_gnb, 0.05)"
   ]
  },
  {
   "cell_type": "code",
   "execution_count": 104,
   "metadata": {},
   "outputs": [
    {
     "data": {
      "text/html": [
       "<div>\n",
       "<style scoped>\n",
       "    .dataframe tbody tr th:only-of-type {\n",
       "        vertical-align: middle;\n",
       "    }\n",
       "\n",
       "    .dataframe tbody tr th {\n",
       "        vertical-align: top;\n",
       "    }\n",
       "\n",
       "    .dataframe thead th {\n",
       "        text-align: right;\n",
       "    }\n",
       "</style>\n",
       "<table border=\"1\" class=\"dataframe\">\n",
       "  <thead>\n",
       "    <tr style=\"text-align: right;\">\n",
       "      <th></th>\n",
       "      <th>id</th>\n",
       "      <th>stroke_in_2018</th>\n",
       "    </tr>\n",
       "  </thead>\n",
       "  <tbody>\n",
       "    <tr>\n",
       "      <th>count</th>\n",
       "      <td>8718.000000</td>\n",
       "      <td>8718.000000</td>\n",
       "    </tr>\n",
       "    <tr>\n",
       "      <th>mean</th>\n",
       "      <td>21711.645102</td>\n",
       "      <td>0.027644</td>\n",
       "    </tr>\n",
       "    <tr>\n",
       "      <th>std</th>\n",
       "      <td>12653.568917</td>\n",
       "      <td>0.163960</td>\n",
       "    </tr>\n",
       "    <tr>\n",
       "      <th>min</th>\n",
       "      <td>0.000000</td>\n",
       "      <td>0.000000</td>\n",
       "    </tr>\n",
       "    <tr>\n",
       "      <th>25%</th>\n",
       "      <td>10741.500000</td>\n",
       "      <td>0.000000</td>\n",
       "    </tr>\n",
       "    <tr>\n",
       "      <th>50%</th>\n",
       "      <td>21764.500000</td>\n",
       "      <td>0.000000</td>\n",
       "    </tr>\n",
       "    <tr>\n",
       "      <th>75%</th>\n",
       "      <td>32644.750000</td>\n",
       "      <td>0.000000</td>\n",
       "    </tr>\n",
       "    <tr>\n",
       "      <th>max</th>\n",
       "      <td>43580.000000</td>\n",
       "      <td>1.000000</td>\n",
       "    </tr>\n",
       "  </tbody>\n",
       "</table>\n",
       "</div>"
      ],
      "text/plain": [
       "                 id  stroke_in_2018\n",
       "count   8718.000000     8718.000000\n",
       "mean   21711.645102        0.027644\n",
       "std    12653.568917        0.163960\n",
       "min        0.000000        0.000000\n",
       "25%    10741.500000        0.000000\n",
       "50%    21764.500000        0.000000\n",
       "75%    32644.750000        0.000000\n",
       "max    43580.000000        1.000000"
      ]
     },
     "execution_count": 104,
     "metadata": {},
     "output_type": "execute_result"
    }
   ],
   "source": [
    "submission.describe()"
   ]
  },
  {
   "cell_type": "markdown",
   "metadata": {
    "colab_type": "text",
    "id": "yAFx6Tpt8XX7"
   },
   "source": [
    "# Random Forest\n",
    "The most successful early classifier. The model reached its limit probably due to non iterative learning. Hyper-parameter tuning was not an option for this hackathon, but we could have tried better feature engineering. Interactions, particularly between treatments, would've enhanced our significant predictors."
   ]
  },
  {
   "cell_type": "code",
   "execution_count": 105,
   "metadata": {
    "colab": {},
    "colab_type": "code",
    "id": "lSYq3skQ-Evk"
   },
   "outputs": [],
   "source": [
    "from sklearn.ensemble import RandomForestClassifier\n",
    "\n",
    "# Make the random forest classifier\n",
    "random_forest = RandomForestClassifier(n_estimators = 100, random_state = 50, verbose = 1, n_jobs = -1)\n",
    "\n",
    "# Get feature importance\n",
    "features = list(x_train.columns)\n",
    "feature_importance_values = np.zeros(len(features))"
   ]
  },
  {
   "cell_type": "code",
   "execution_count": 131,
   "metadata": {
    "colab": {
     "base_uri": "https://localhost:8080/",
     "height": 176
    },
    "colab_type": "code",
    "executionInfo": {
     "elapsed": 3006,
     "status": "ok",
     "timestamp": 1563647498901,
     "user": {
      "displayName": "Ariel Serravalle",
      "photoUrl": "https://lh4.googleusercontent.com/-suAtWhIByqA/AAAAAAAAAAI/AAAAAAAANh8/1VNRBfDQJ3E/s64/photo.jpg",
      "userId": "14429275652589207839"
     },
     "user_tz": -600
    },
    "id": "HlCgd7JUELsM",
    "outputId": "3d816464-d602-4633-ba43-d738dfea23fb"
   },
   "outputs": [
    {
     "name": "stderr",
     "output_type": "stream",
     "text": [
      "[Parallel(n_jobs=-1)]: Done  42 tasks      | elapsed:    0.6s\n",
      "[Parallel(n_jobs=-1)]: Done 100 out of 100 | elapsed:    1.5s finished\n",
      "[Parallel(n_jobs=4)]: Done  42 tasks      | elapsed:    0.0s\n",
      "[Parallel(n_jobs=4)]: Done 100 out of 100 | elapsed:    0.0s finished\n"
     ]
    },
    {
     "name": "stdout",
     "output_type": "stream",
     "text": [
      "<class 'numpy.ndarray'>\n"
     ]
    }
   ],
   "source": [
    "# Train on the training data\n",
    "\n",
    "random_forest.fit(x_train, y_train)\n",
    "\n",
    "# Extract feature importances\n",
    "feature_importance_values = random_forest.feature_importances_\n",
    "feature_importances = pd.DataFrame({'feature': features, 'importance': feature_importance_values})\n",
    "\n",
    "# Make predictions on the test data\n",
    "predictions = random_forest.predict_proba(test)[:, 1]\n",
    "\n",
    "print(type(predictions))"
   ]
  },
  {
   "cell_type": "code",
   "execution_count": 132,
   "metadata": {},
   "outputs": [
    {
     "data": {
      "text/html": [
       "<div>\n",
       "<style scoped>\n",
       "    .dataframe tbody tr th:only-of-type {\n",
       "        vertical-align: middle;\n",
       "    }\n",
       "\n",
       "    .dataframe tbody tr th {\n",
       "        vertical-align: top;\n",
       "    }\n",
       "\n",
       "    .dataframe thead th {\n",
       "        text-align: right;\n",
       "    }\n",
       "</style>\n",
       "<table border=\"1\" class=\"dataframe\">\n",
       "  <thead>\n",
       "    <tr style=\"text-align: right;\">\n",
       "      <th></th>\n",
       "      <th>id</th>\n",
       "      <th>stroke_in_2018</th>\n",
       "    </tr>\n",
       "  </thead>\n",
       "  <tbody>\n",
       "    <tr>\n",
       "      <th>0</th>\n",
       "      <td>33327</td>\n",
       "      <td>0</td>\n",
       "    </tr>\n",
       "    <tr>\n",
       "      <th>1</th>\n",
       "      <td>839</td>\n",
       "      <td>0</td>\n",
       "    </tr>\n",
       "    <tr>\n",
       "      <th>2</th>\n",
       "      <td>11127</td>\n",
       "      <td>0</td>\n",
       "    </tr>\n",
       "    <tr>\n",
       "      <th>3</th>\n",
       "      <td>20768</td>\n",
       "      <td>0</td>\n",
       "    </tr>\n",
       "    <tr>\n",
       "      <th>4</th>\n",
       "      <td>37774</td>\n",
       "      <td>0</td>\n",
       "    </tr>\n",
       "    <tr>\n",
       "      <th>5</th>\n",
       "      <td>4283</td>\n",
       "      <td>1</td>\n",
       "    </tr>\n",
       "    <tr>\n",
       "      <th>6</th>\n",
       "      <td>13832</td>\n",
       "      <td>0</td>\n",
       "    </tr>\n",
       "    <tr>\n",
       "      <th>7</th>\n",
       "      <td>4579</td>\n",
       "      <td>0</td>\n",
       "    </tr>\n",
       "    <tr>\n",
       "      <th>8</th>\n",
       "      <td>26781</td>\n",
       "      <td>1</td>\n",
       "    </tr>\n",
       "    <tr>\n",
       "      <th>9</th>\n",
       "      <td>17196</td>\n",
       "      <td>0</td>\n",
       "    </tr>\n",
       "  </tbody>\n",
       "</table>\n",
       "</div>"
      ],
      "text/plain": [
       "      id  stroke_in_2018\n",
       "0  33327               0\n",
       "1    839               0\n",
       "2  11127               0\n",
       "3  20768               0\n",
       "4  37774               0\n",
       "5   4283               1\n",
       "6  13832               0\n",
       "7   4579               0\n",
       "8  26781               1\n",
       "9  17196               0"
      ]
     },
     "execution_count": 132,
     "metadata": {},
     "output_type": "execute_result"
    }
   ],
   "source": [
    "submit(predictions, 0.03)"
   ]
  },
  {
   "cell_type": "code",
   "execution_count": 134,
   "metadata": {},
   "outputs": [
    {
     "data": {
      "text/html": [
       "<div>\n",
       "<style scoped>\n",
       "    .dataframe tbody tr th:only-of-type {\n",
       "        vertical-align: middle;\n",
       "    }\n",
       "\n",
       "    .dataframe tbody tr th {\n",
       "        vertical-align: top;\n",
       "    }\n",
       "\n",
       "    .dataframe thead th {\n",
       "        text-align: right;\n",
       "    }\n",
       "</style>\n",
       "<table border=\"1\" class=\"dataframe\">\n",
       "  <thead>\n",
       "    <tr style=\"text-align: right;\">\n",
       "      <th></th>\n",
       "      <th>id</th>\n",
       "      <th>stroke_in_2018</th>\n",
       "    </tr>\n",
       "  </thead>\n",
       "  <tbody>\n",
       "    <tr>\n",
       "      <th>count</th>\n",
       "      <td>8718.000000</td>\n",
       "      <td>8718.000000</td>\n",
       "    </tr>\n",
       "    <tr>\n",
       "      <th>mean</th>\n",
       "      <td>21711.645102</td>\n",
       "      <td>0.158064</td>\n",
       "    </tr>\n",
       "    <tr>\n",
       "      <th>std</th>\n",
       "      <td>12653.568917</td>\n",
       "      <td>0.364822</td>\n",
       "    </tr>\n",
       "    <tr>\n",
       "      <th>min</th>\n",
       "      <td>0.000000</td>\n",
       "      <td>0.000000</td>\n",
       "    </tr>\n",
       "    <tr>\n",
       "      <th>25%</th>\n",
       "      <td>10741.500000</td>\n",
       "      <td>0.000000</td>\n",
       "    </tr>\n",
       "    <tr>\n",
       "      <th>50%</th>\n",
       "      <td>21764.500000</td>\n",
       "      <td>0.000000</td>\n",
       "    </tr>\n",
       "    <tr>\n",
       "      <th>75%</th>\n",
       "      <td>32644.750000</td>\n",
       "      <td>0.000000</td>\n",
       "    </tr>\n",
       "    <tr>\n",
       "      <th>max</th>\n",
       "      <td>43580.000000</td>\n",
       "      <td>1.000000</td>\n",
       "    </tr>\n",
       "  </tbody>\n",
       "</table>\n",
       "</div>"
      ],
      "text/plain": [
       "                 id  stroke_in_2018\n",
       "count   8718.000000     8718.000000\n",
       "mean   21711.645102        0.158064\n",
       "std    12653.568917        0.364822\n",
       "min        0.000000        0.000000\n",
       "25%    10741.500000        0.000000\n",
       "50%    21764.500000        0.000000\n",
       "75%    32644.750000        0.000000\n",
       "max    43580.000000        1.000000"
      ]
     },
     "execution_count": 134,
     "metadata": {},
     "output_type": "execute_result"
    }
   ],
   "source": [
    "submission.describe()"
   ]
  },
  {
   "cell_type": "markdown",
   "metadata": {
    "colab_type": "text",
    "id": "lOZsCOzW7G3s"
   },
   "source": [
    "# Symmetric Training\n",
    "An attempt to overcome a bias target variable by resampling. This didn't work as well as I'd hoped - leading to results marginally better than simple models like logistic regression. It also had two parameters to play with - the amount of resampling in the training data and the threshold of the classifier.\n",
    "\n",
    "For future projects we learned to use a SMOTE."
   ]
  },
  {
   "cell_type": "code",
   "execution_count": 170,
   "metadata": {
    "colab": {},
    "colab_type": "code",
    "id": "I9JRBk8ORFV8"
   },
   "outputs": [],
   "source": [
    "# Take random sample with replacement of training observations with strokes\n",
    "stroke = train[train['stroke_in_2018'] == 1]\n",
    "stroke_samp = stroke.iloc[list(np.random.choice(np.arange(len(stroke)), 5000)),]\n",
    "\n",
    "#... and again for no strokes, without replacement\n",
    "NoStroke = train[train['stroke_in_2018'] == 0]\n",
    "NoStroke_trainindex = list(np.random.choice(np.arange(len(NoStroke)), 27500, replace = False))\n",
    "NoStroke_samp = NoStroke.iloc[NoStroke_trainindex,]\n",
    "\n",
    "# The NoStrokes that aren't used in training will be used as a validation set\n",
    "NoStroke_testindex = list(set(range(len(NoStroke)))^set(NoStroke_trainindex))\n",
    "NoStroke_testsamp = NoStroke.iloc[NoStroke_testindex,]"
   ]
  },
  {
   "cell_type": "code",
   "execution_count": 171,
   "metadata": {
    "colab": {
     "base_uri": "https://localhost:8080/",
     "height": 69
    },
    "colab_type": "code",
    "executionInfo": {
     "elapsed": 595,
     "status": "ok",
     "timestamp": 1563643043025,
     "user": {
      "displayName": "Ariel Serravalle",
      "photoUrl": "https://lh4.googleusercontent.com/-suAtWhIByqA/AAAAAAAAAAI/AAAAAAAANh8/1VNRBfDQJ3E/s64/photo.jpg",
      "userId": "14429275652589207839"
     },
     "user_tz": -600
    },
    "id": "2_duQeqi7Iiu",
    "outputId": "e792c2cc-e272-4a69-e306-5efcb1978cae"
   },
   "outputs": [
    {
     "data": {
      "text/plain": [
       "0.0    27500\n",
       "1.0     5000\n",
       "Name: stroke_in_2018, dtype: int64"
      ]
     },
     "execution_count": 171,
     "metadata": {},
     "output_type": "execute_result"
    }
   ],
   "source": [
    "# The training dataframe is made of 5000 Stroke and 27500 Nostroke samples\n",
    "SYMdf = stroke_samp.append(NoStroke_samp)\n",
    "SYMdf['stroke_in_2018'].value_counts()"
   ]
  },
  {
   "cell_type": "code",
   "execution_count": 200,
   "metadata": {
    "colab": {
     "base_uri": "https://localhost:8080/",
     "height": 69
    },
    "colab_type": "code",
    "executionInfo": {
     "elapsed": 1071,
     "status": "ok",
     "timestamp": 1563643046857,
     "user": {
      "displayName": "Ariel Serravalle",
      "photoUrl": "https://lh4.googleusercontent.com/-suAtWhIByqA/AAAAAAAAAAI/AAAAAAAANh8/1VNRBfDQJ3E/s64/photo.jpg",
      "userId": "14429275652589207839"
     },
     "user_tz": -600
    },
    "id": "Xokxje3RGUTh",
    "outputId": "aa3fa2ec-8b5a-41ac-fe9b-ef5ab1e3e25c"
   },
   "outputs": [
    {
     "data": {
      "text/plain": [
       "0.0    6720\n",
       "1.0     652\n",
       "Name: stroke_in_2018, dtype: int64"
      ]
     },
     "execution_count": 200,
     "metadata": {},
     "output_type": "execute_result"
    }
   ],
   "source": [
    "# The testing dataframe is made of the remaining NoStroke and the resampled Stroke observations\n",
    "SYMdf_test = NoStroke_testsamp.append(stroke)\n",
    "SYMdf_test['stroke_in_2018'].value_counts()\n",
    "y_SYMdf_test = SYMdf_test['stroke_in_2018']\n",
    "x_SYMdf_test = SYMdf_test.drop('stroke_in_2018', axis = 1)\n",
    "SYMdf_test_target.value_counts()"
   ]
  },
  {
   "cell_type": "code",
   "execution_count": 206,
   "metadata": {
    "colab": {},
    "colab_type": "code",
    "id": "52DCwCEiEDxM"
   },
   "outputs": [],
   "source": [
    "# Make the random forest classifier\n",
    "\n",
    "from sklearn.ensemble import RandomForestClassifier\n",
    "random_forest = RandomForestClassifier(n_estimators = 100, random_state = 50, verbose = 1, n_jobs = -1)\n",
    "\n",
    "y_SYMtrain = SYMdf[['stroke_in_2018']]\n",
    "x_SYMtrain = SYMdf.drop('stroke_in_2018', axis = 1)\n",
    "SYMfeatures = list(x_SYMtrain.columns)\n",
    "feature_importance_values = np.zeros(len(SYMfeatures))"
   ]
  },
  {
   "cell_type": "code",
   "execution_count": 207,
   "metadata": {
    "colab": {
     "base_uri": "https://localhost:8080/",
     "height": 138
    },
    "colab_type": "code",
    "executionInfo": {
     "elapsed": 2116,
     "status": "ok",
     "timestamp": 1563643059916,
     "user": {
      "displayName": "Ariel Serravalle",
      "photoUrl": "https://lh4.googleusercontent.com/-suAtWhIByqA/AAAAAAAAAAI/AAAAAAAANh8/1VNRBfDQJ3E/s64/photo.jpg",
      "userId": "14429275652589207839"
     },
     "user_tz": -600
    },
    "id": "OaodgvKKEDxk",
    "outputId": "2d0bd17f-44c2-4a60-e180-70b1ffb98b30"
   },
   "outputs": [
    {
     "name": "stderr",
     "output_type": "stream",
     "text": [
      "[Parallel(n_jobs=-1)]: Done  42 tasks      | elapsed:    0.6s\n",
      "[Parallel(n_jobs=-1)]: Done 100 out of 100 | elapsed:    1.4s finished\n",
      "[Parallel(n_jobs=4)]: Done  42 tasks      | elapsed:    0.0s\n",
      "[Parallel(n_jobs=4)]: Done 100 out of 100 | elapsed:    0.0s finished\n"
     ]
    },
    {
     "data": {
      "text/plain": [
       "array([0.14, 0.  , 0.01, 0.01, 0.03, 0.  , 0.  , 0.01, 0.02, 0.05])"
      ]
     },
     "execution_count": 207,
     "metadata": {},
     "output_type": "execute_result"
    }
   ],
   "source": [
    "# Train on the training data\n",
    "\n",
    "random_forest.fit(x_SYMtrain, y_SYMtrain)\n",
    "\n",
    "# Extract feature importances\n",
    "feature_importance_values = random_forest.feature_importances_\n",
    "feature_importances = pd.DataFrame({'feature': SYMfeatures, 'importance': feature_importance_values})\n",
    "\n",
    "# Evaluate the model by making a prediction on the rest of the training data\n",
    "predictions = random_forest.predict_proba(x_SYMdf_test)[:, 1]\n",
    "predictions[:10]"
   ]
  },
  {
   "cell_type": "code",
   "execution_count": 208,
   "metadata": {
    "colab": {
     "base_uri": "https://localhost:8080/",
     "height": 355
    },
    "colab_type": "code",
    "executionInfo": {
     "elapsed": 595,
     "status": "ok",
     "timestamp": 1563643061367,
     "user": {
      "displayName": "Ariel Serravalle",
      "photoUrl": "https://lh4.googleusercontent.com/-suAtWhIByqA/AAAAAAAAAAI/AAAAAAAANh8/1VNRBfDQJ3E/s64/photo.jpg",
      "userId": "14429275652589207839"
     },
     "user_tz": -600
    },
    "id": "eMadutXCLsjI",
    "outputId": "3187c479-8fd8-471e-aef8-044bc2e1ac6e"
   },
   "outputs": [
    {
     "data": {
      "text/html": [
       "<div>\n",
       "<style scoped>\n",
       "    .dataframe tbody tr th:only-of-type {\n",
       "        vertical-align: middle;\n",
       "    }\n",
       "\n",
       "    .dataframe tbody tr th {\n",
       "        vertical-align: top;\n",
       "    }\n",
       "\n",
       "    .dataframe thead th {\n",
       "        text-align: right;\n",
       "    }\n",
       "</style>\n",
       "<table border=\"1\" class=\"dataframe\">\n",
       "  <thead>\n",
       "    <tr style=\"text-align: right;\">\n",
       "      <th></th>\n",
       "      <th>stroke_in_2018</th>\n",
       "      <th>Prob</th>\n",
       "    </tr>\n",
       "  </thead>\n",
       "  <tbody>\n",
       "    <tr>\n",
       "      <th>0</th>\n",
       "      <td>0.0</td>\n",
       "      <td>0.14</td>\n",
       "    </tr>\n",
       "    <tr>\n",
       "      <th>1</th>\n",
       "      <td>0.0</td>\n",
       "      <td>0.00</td>\n",
       "    </tr>\n",
       "    <tr>\n",
       "      <th>2</th>\n",
       "      <td>0.0</td>\n",
       "      <td>0.01</td>\n",
       "    </tr>\n",
       "    <tr>\n",
       "      <th>3</th>\n",
       "      <td>0.0</td>\n",
       "      <td>0.01</td>\n",
       "    </tr>\n",
       "    <tr>\n",
       "      <th>4</th>\n",
       "      <td>0.0</td>\n",
       "      <td>0.03</td>\n",
       "    </tr>\n",
       "    <tr>\n",
       "      <th>5</th>\n",
       "      <td>0.0</td>\n",
       "      <td>0.00</td>\n",
       "    </tr>\n",
       "    <tr>\n",
       "      <th>6</th>\n",
       "      <td>0.0</td>\n",
       "      <td>0.00</td>\n",
       "    </tr>\n",
       "    <tr>\n",
       "      <th>7</th>\n",
       "      <td>0.0</td>\n",
       "      <td>0.01</td>\n",
       "    </tr>\n",
       "    <tr>\n",
       "      <th>8</th>\n",
       "      <td>0.0</td>\n",
       "      <td>0.02</td>\n",
       "    </tr>\n",
       "    <tr>\n",
       "      <th>9</th>\n",
       "      <td>0.0</td>\n",
       "      <td>0.05</td>\n",
       "    </tr>\n",
       "  </tbody>\n",
       "</table>\n",
       "</div>"
      ],
      "text/plain": [
       "   stroke_in_2018  Prob\n",
       "0             0.0  0.14\n",
       "1             0.0  0.00\n",
       "2             0.0  0.01\n",
       "3             0.0  0.01\n",
       "4             0.0  0.03\n",
       "5             0.0  0.00\n",
       "6             0.0  0.00\n",
       "7             0.0  0.01\n",
       "8             0.0  0.02\n",
       "9             0.0  0.05"
      ]
     },
     "execution_count": 208,
     "metadata": {},
     "output_type": "execute_result"
    }
   ],
   "source": [
    "#Create a submission dataframe for validation\n",
    "\n",
    "#Actual values\n",
    "y_SYMdf_test = pd.DataFrame(y_SYMdf_test)\n",
    "y_SYMdf_test = y_SYMdf_test.reset_index(drop = True)\n",
    "\n",
    "# Predicted values\n",
    "predictions = pd.DataFrame(predictions, columns = ['Prob'])\n",
    "CV = pd.concat([y_SYMdf_test['stroke_in_2018'], predictions], axis = 1)\n",
    "CV.head(10)"
   ]
  },
  {
   "cell_type": "code",
   "execution_count": 209,
   "metadata": {
    "colab": {
     "base_uri": "https://localhost:8080/",
     "height": 190
    },
    "colab_type": "code",
    "executionInfo": {
     "elapsed": 1304,
     "status": "ok",
     "timestamp": 1563643082233,
     "user": {
      "displayName": "Ariel Serravalle",
      "photoUrl": "https://lh4.googleusercontent.com/-suAtWhIByqA/AAAAAAAAAAI/AAAAAAAANh8/1VNRBfDQJ3E/s64/photo.jpg",
      "userId": "14429275652589207839"
     },
     "user_tz": -600
    },
    "id": "_h3EWoR6PWMp",
    "outputId": "d8daef16-012d-4394-c453-ac7dc2e57601"
   },
   "outputs": [],
   "source": [
    "# Create this loop to determine best threshold\n",
    "\n",
    "for thresh in range(13,17):\n",
    "    # predictions\n",
    "    colname = 'Pred ' + str(thresh/100)\n",
    "    CV[ colname ] = 0\n",
    "    \n",
    "    # Where the predicted probability of stroke is higher than the threshold, set = 1\n",
    "    CV[colname][CV['Prob'] > thresh/100] = 1\n",
    "    \n",
    "    # Repeat for matches\n",
    "    colname2 = 'Match ' + str(thresh/100)\n",
    "    CV[colname2] = 0\n",
    "    \n",
    "    # Set =1 where prediction was correct\n",
    "    CV[colname2][CV['stroke_in_2018'] == CV[colname]] = 1"
   ]
  },
  {
   "cell_type": "code",
   "execution_count": 210,
   "metadata": {
    "colab": {
     "base_uri": "https://localhost:8080/",
     "height": 314
    },
    "colab_type": "code",
    "executionInfo": {
     "elapsed": 852,
     "status": "ok",
     "timestamp": 1563643089177,
     "user": {
      "displayName": "Ariel Serravalle",
      "photoUrl": "https://lh4.googleusercontent.com/-suAtWhIByqA/AAAAAAAAAAI/AAAAAAAANh8/1VNRBfDQJ3E/s64/photo.jpg",
      "userId": "14429275652589207839"
     },
     "user_tz": -600
    },
    "id": "ghLMPAtDQbaC",
    "outputId": "bc7683df-645b-416f-bcf7-7d1db556c3f8"
   },
   "outputs": [
    {
     "data": {
      "text/html": [
       "<div>\n",
       "<style scoped>\n",
       "    .dataframe tbody tr th:only-of-type {\n",
       "        vertical-align: middle;\n",
       "    }\n",
       "\n",
       "    .dataframe tbody tr th {\n",
       "        vertical-align: top;\n",
       "    }\n",
       "\n",
       "    .dataframe thead th {\n",
       "        text-align: right;\n",
       "    }\n",
       "</style>\n",
       "<table border=\"1\" class=\"dataframe\">\n",
       "  <thead>\n",
       "    <tr style=\"text-align: right;\">\n",
       "      <th></th>\n",
       "      <th>stroke_in_2018</th>\n",
       "      <th>Prob</th>\n",
       "      <th>Pred 0.13</th>\n",
       "      <th>Match 0.13</th>\n",
       "      <th>Pred 0.14</th>\n",
       "      <th>Match 0.14</th>\n",
       "      <th>Pred 0.15</th>\n",
       "      <th>Match 0.15</th>\n",
       "      <th>Pred 0.16</th>\n",
       "      <th>Match 0.16</th>\n",
       "    </tr>\n",
       "  </thead>\n",
       "  <tbody>\n",
       "    <tr>\n",
       "      <th>count</th>\n",
       "      <td>7372.000000</td>\n",
       "      <td>7372.000000</td>\n",
       "      <td>7372.000000</td>\n",
       "      <td>7372.000000</td>\n",
       "      <td>7372.000000</td>\n",
       "      <td>7372.000000</td>\n",
       "      <td>7372.000000</td>\n",
       "      <td>7372.000000</td>\n",
       "      <td>7372.000000</td>\n",
       "      <td>7372.000000</td>\n",
       "    </tr>\n",
       "    <tr>\n",
       "      <th>mean</th>\n",
       "      <td>0.088443</td>\n",
       "      <td>0.116875</td>\n",
       "      <td>0.147857</td>\n",
       "      <td>0.940315</td>\n",
       "      <td>0.140260</td>\n",
       "      <td>0.947911</td>\n",
       "      <td>0.134699</td>\n",
       "      <td>0.953473</td>\n",
       "      <td>0.130494</td>\n",
       "      <td>0.957678</td>\n",
       "    </tr>\n",
       "    <tr>\n",
       "      <th>std</th>\n",
       "      <td>0.283957</td>\n",
       "      <td>0.280183</td>\n",
       "      <td>0.354982</td>\n",
       "      <td>0.236919</td>\n",
       "      <td>0.347281</td>\n",
       "      <td>0.222222</td>\n",
       "      <td>0.341425</td>\n",
       "      <td>0.210639</td>\n",
       "      <td>0.336869</td>\n",
       "      <td>0.201337</td>\n",
       "    </tr>\n",
       "    <tr>\n",
       "      <th>min</th>\n",
       "      <td>0.000000</td>\n",
       "      <td>0.000000</td>\n",
       "      <td>0.000000</td>\n",
       "      <td>0.000000</td>\n",
       "      <td>0.000000</td>\n",
       "      <td>0.000000</td>\n",
       "      <td>0.000000</td>\n",
       "      <td>0.000000</td>\n",
       "      <td>0.000000</td>\n",
       "      <td>0.000000</td>\n",
       "    </tr>\n",
       "    <tr>\n",
       "      <th>25%</th>\n",
       "      <td>0.000000</td>\n",
       "      <td>0.000000</td>\n",
       "      <td>0.000000</td>\n",
       "      <td>1.000000</td>\n",
       "      <td>0.000000</td>\n",
       "      <td>1.000000</td>\n",
       "      <td>0.000000</td>\n",
       "      <td>1.000000</td>\n",
       "      <td>0.000000</td>\n",
       "      <td>1.000000</td>\n",
       "    </tr>\n",
       "    <tr>\n",
       "      <th>50%</th>\n",
       "      <td>0.000000</td>\n",
       "      <td>0.010000</td>\n",
       "      <td>0.000000</td>\n",
       "      <td>1.000000</td>\n",
       "      <td>0.000000</td>\n",
       "      <td>1.000000</td>\n",
       "      <td>0.000000</td>\n",
       "      <td>1.000000</td>\n",
       "      <td>0.000000</td>\n",
       "      <td>1.000000</td>\n",
       "    </tr>\n",
       "    <tr>\n",
       "      <th>75%</th>\n",
       "      <td>0.000000</td>\n",
       "      <td>0.060000</td>\n",
       "      <td>0.000000</td>\n",
       "      <td>1.000000</td>\n",
       "      <td>0.000000</td>\n",
       "      <td>1.000000</td>\n",
       "      <td>0.000000</td>\n",
       "      <td>1.000000</td>\n",
       "      <td>0.000000</td>\n",
       "      <td>1.000000</td>\n",
       "    </tr>\n",
       "    <tr>\n",
       "      <th>max</th>\n",
       "      <td>1.000000</td>\n",
       "      <td>1.000000</td>\n",
       "      <td>1.000000</td>\n",
       "      <td>1.000000</td>\n",
       "      <td>1.000000</td>\n",
       "      <td>1.000000</td>\n",
       "      <td>1.000000</td>\n",
       "      <td>1.000000</td>\n",
       "      <td>1.000000</td>\n",
       "      <td>1.000000</td>\n",
       "    </tr>\n",
       "  </tbody>\n",
       "</table>\n",
       "</div>"
      ],
      "text/plain": [
       "       stroke_in_2018         Prob    Pred 0.13   Match 0.13    Pred 0.14  \\\n",
       "count     7372.000000  7372.000000  7372.000000  7372.000000  7372.000000   \n",
       "mean         0.088443     0.116875     0.147857     0.940315     0.140260   \n",
       "std          0.283957     0.280183     0.354982     0.236919     0.347281   \n",
       "min          0.000000     0.000000     0.000000     0.000000     0.000000   \n",
       "25%          0.000000     0.000000     0.000000     1.000000     0.000000   \n",
       "50%          0.000000     0.010000     0.000000     1.000000     0.000000   \n",
       "75%          0.000000     0.060000     0.000000     1.000000     0.000000   \n",
       "max          1.000000     1.000000     1.000000     1.000000     1.000000   \n",
       "\n",
       "        Match 0.14    Pred 0.15   Match 0.15    Pred 0.16   Match 0.16  \n",
       "count  7372.000000  7372.000000  7372.000000  7372.000000  7372.000000  \n",
       "mean      0.947911     0.134699     0.953473     0.130494     0.957678  \n",
       "std       0.222222     0.341425     0.210639     0.336869     0.201337  \n",
       "min       0.000000     0.000000     0.000000     0.000000     0.000000  \n",
       "25%       1.000000     0.000000     1.000000     0.000000     1.000000  \n",
       "50%       1.000000     0.000000     1.000000     0.000000     1.000000  \n",
       "75%       1.000000     0.000000     1.000000     0.000000     1.000000  \n",
       "max       1.000000     1.000000     1.000000     1.000000     1.000000  "
      ]
     },
     "execution_count": 210,
     "metadata": {},
     "output_type": "execute_result"
    }
   ],
   "source": [
    "# Mean row tells the percentage which had the highest training accuracy, and the percentage of strokes we predict\n",
    "CV.describe()"
   ]
  },
  {
   "cell_type": "markdown",
   "metadata": {},
   "source": [
    "It seems that the higher the threshold, the better more accurate the prediction. This indicates the symmetrical resampling didn't work - submission results ended up very different to the "
   ]
  },
  {
   "cell_type": "code",
   "execution_count": 211,
   "metadata": {
    "colab": {
     "base_uri": "https://localhost:8080/",
     "height": 208
    },
    "colab_type": "code",
    "executionInfo": {
     "elapsed": 1776,
     "status": "ok",
     "timestamp": 1563643412587,
     "user": {
      "displayName": "Ariel Serravalle",
      "photoUrl": "https://lh4.googleusercontent.com/-suAtWhIByqA/AAAAAAAAAAI/AAAAAAAANh8/1VNRBfDQJ3E/s64/photo.jpg",
      "userId": "14429275652589207839"
     },
     "user_tz": -600
    },
    "id": "cyMRprheBiYt",
    "outputId": "ee9fdc11-08ce-48e1-b12b-95a14f401ba0"
   },
   "outputs": [
    {
     "name": "stderr",
     "output_type": "stream",
     "text": [
      "[Parallel(n_jobs=4)]: Done  42 tasks      | elapsed:    0.0s\n",
      "[Parallel(n_jobs=4)]: Done 100 out of 100 | elapsed:    0.0s finished\n"
     ]
    },
    {
     "data": {
      "text/plain": [
       "array([0.51, 0.71, 0.58, 0.64, 0.64, 0.81, 0.55, 0.54, 0.54, 0.58, 0.57,\n",
       "       0.51, 0.6 ])"
      ]
     },
     "execution_count": 211,
     "metadata": {},
     "output_type": "execute_result"
    }
   ],
   "source": [
    "# Make predictions on the test data\n",
    "predictions = random_forest.predict_proba(test)[:, 1]\n",
    "predictions[(predictions>0.5)]"
   ]
  },
  {
   "cell_type": "code",
   "execution_count": 216,
   "metadata": {
    "colab": {
     "base_uri": "https://localhost:8080/",
     "height": 807
    },
    "colab_type": "code",
    "executionInfo": {
     "elapsed": 2989,
     "status": "ok",
     "timestamp": 1563643414061,
     "user": {
      "displayName": "Ariel Serravalle",
      "photoUrl": "https://lh4.googleusercontent.com/-suAtWhIByqA/AAAAAAAAAAI/AAAAAAAANh8/1VNRBfDQJ3E/s64/photo.jpg",
      "userId": "14429275652589207839"
     },
     "user_tz": -600
    },
    "id": "1xmaqE-pThR7",
    "outputId": "59050123-8f15-4d2b-9da3-14ee119e03c1"
   },
   "outputs": [
    {
     "data": {
      "text/html": [
       "<div>\n",
       "<style scoped>\n",
       "    .dataframe tbody tr th:only-of-type {\n",
       "        vertical-align: middle;\n",
       "    }\n",
       "\n",
       "    .dataframe tbody tr th {\n",
       "        vertical-align: top;\n",
       "    }\n",
       "\n",
       "    .dataframe thead th {\n",
       "        text-align: right;\n",
       "    }\n",
       "</style>\n",
       "<table border=\"1\" class=\"dataframe\">\n",
       "  <thead>\n",
       "    <tr style=\"text-align: right;\">\n",
       "      <th></th>\n",
       "      <th>id</th>\n",
       "      <th>stroke_in_2018</th>\n",
       "    </tr>\n",
       "  </thead>\n",
       "  <tbody>\n",
       "    <tr>\n",
       "      <th>0</th>\n",
       "      <td>33327</td>\n",
       "      <td>1</td>\n",
       "    </tr>\n",
       "    <tr>\n",
       "      <th>1</th>\n",
       "      <td>839</td>\n",
       "      <td>0</td>\n",
       "    </tr>\n",
       "    <tr>\n",
       "      <th>2</th>\n",
       "      <td>11127</td>\n",
       "      <td>0</td>\n",
       "    </tr>\n",
       "    <tr>\n",
       "      <th>3</th>\n",
       "      <td>20768</td>\n",
       "      <td>0</td>\n",
       "    </tr>\n",
       "    <tr>\n",
       "      <th>4</th>\n",
       "      <td>37774</td>\n",
       "      <td>0</td>\n",
       "    </tr>\n",
       "    <tr>\n",
       "      <th>5</th>\n",
       "      <td>4283</td>\n",
       "      <td>0</td>\n",
       "    </tr>\n",
       "    <tr>\n",
       "      <th>6</th>\n",
       "      <td>13832</td>\n",
       "      <td>1</td>\n",
       "    </tr>\n",
       "    <tr>\n",
       "      <th>7</th>\n",
       "      <td>4579</td>\n",
       "      <td>0</td>\n",
       "    </tr>\n",
       "    <tr>\n",
       "      <th>8</th>\n",
       "      <td>26781</td>\n",
       "      <td>1</td>\n",
       "    </tr>\n",
       "    <tr>\n",
       "      <th>9</th>\n",
       "      <td>17196</td>\n",
       "      <td>1</td>\n",
       "    </tr>\n",
       "  </tbody>\n",
       "</table>\n",
       "</div>"
      ],
      "text/plain": [
       "      id  stroke_in_2018\n",
       "0  33327               1\n",
       "1    839               0\n",
       "2  11127               0\n",
       "3  20768               0\n",
       "4  37774               0\n",
       "5   4283               0\n",
       "6  13832               1\n",
       "7   4579               0\n",
       "8  26781               1\n",
       "9  17196               1"
      ]
     },
     "execution_count": 216,
     "metadata": {},
     "output_type": "execute_result"
    }
   ],
   "source": [
    "submit(predictions, 0.05)"
   ]
  },
  {
   "cell_type": "code",
   "execution_count": 218,
   "metadata": {
    "colab": {
     "base_uri": "https://localhost:8080/",
     "height": 294
    },
    "colab_type": "code",
    "executionInfo": {
     "elapsed": 2156,
     "status": "ok",
     "timestamp": 1563643414068,
     "user": {
      "displayName": "Ariel Serravalle",
      "photoUrl": "https://lh4.googleusercontent.com/-suAtWhIByqA/AAAAAAAAAAI/AAAAAAAANh8/1VNRBfDQJ3E/s64/photo.jpg",
      "userId": "14429275652589207839"
     },
     "user_tz": -600
    },
    "id": "C2qtC9-cXS5V",
    "outputId": "3debd245-3eb9-427d-813d-8f4e890ab3ff"
   },
   "outputs": [
    {
     "data": {
      "text/html": [
       "<div>\n",
       "<style scoped>\n",
       "    .dataframe tbody tr th:only-of-type {\n",
       "        vertical-align: middle;\n",
       "    }\n",
       "\n",
       "    .dataframe tbody tr th {\n",
       "        vertical-align: top;\n",
       "    }\n",
       "\n",
       "    .dataframe thead th {\n",
       "        text-align: right;\n",
       "    }\n",
       "</style>\n",
       "<table border=\"1\" class=\"dataframe\">\n",
       "  <thead>\n",
       "    <tr style=\"text-align: right;\">\n",
       "      <th></th>\n",
       "      <th>id</th>\n",
       "      <th>stroke_in_2018</th>\n",
       "    </tr>\n",
       "  </thead>\n",
       "  <tbody>\n",
       "    <tr>\n",
       "      <th>count</th>\n",
       "      <td>8718.000000</td>\n",
       "      <td>8718.000000</td>\n",
       "    </tr>\n",
       "    <tr>\n",
       "      <th>mean</th>\n",
       "      <td>21711.645102</td>\n",
       "      <td>0.178252</td>\n",
       "    </tr>\n",
       "    <tr>\n",
       "      <th>std</th>\n",
       "      <td>12653.568917</td>\n",
       "      <td>0.382747</td>\n",
       "    </tr>\n",
       "    <tr>\n",
       "      <th>min</th>\n",
       "      <td>0.000000</td>\n",
       "      <td>0.000000</td>\n",
       "    </tr>\n",
       "    <tr>\n",
       "      <th>25%</th>\n",
       "      <td>10741.500000</td>\n",
       "      <td>0.000000</td>\n",
       "    </tr>\n",
       "    <tr>\n",
       "      <th>50%</th>\n",
       "      <td>21764.500000</td>\n",
       "      <td>0.000000</td>\n",
       "    </tr>\n",
       "    <tr>\n",
       "      <th>75%</th>\n",
       "      <td>32644.750000</td>\n",
       "      <td>0.000000</td>\n",
       "    </tr>\n",
       "    <tr>\n",
       "      <th>max</th>\n",
       "      <td>43580.000000</td>\n",
       "      <td>1.000000</td>\n",
       "    </tr>\n",
       "  </tbody>\n",
       "</table>\n",
       "</div>"
      ],
      "text/plain": [
       "                 id  stroke_in_2018\n",
       "count   8718.000000     8718.000000\n",
       "mean   21711.645102        0.178252\n",
       "std    12653.568917        0.382747\n",
       "min        0.000000        0.000000\n",
       "25%    10741.500000        0.000000\n",
       "50%    21764.500000        0.000000\n",
       "75%    32644.750000        0.000000\n",
       "max    43580.000000        1.000000"
      ]
     },
     "execution_count": 218,
     "metadata": {},
     "output_type": "execute_result"
    }
   ],
   "source": [
    "submission.describe()"
   ]
  },
  {
   "cell_type": "markdown",
   "metadata": {
    "colab_type": "text",
    "id": "suM5tk8w3888"
   },
   "source": [
    "# Interactions\n",
    "Interactions were determined intuitively. Treatments are used together and so we should look at their interactions"
   ]
  },
  {
   "cell_type": "code",
   "execution_count": 219,
   "metadata": {
    "colab": {},
    "colab_type": "code",
    "id": "dU0Sr8_D4BCN"
   },
   "outputs": [],
   "source": [
    "def Interact(df,var1,var2):\n",
    "    a = df[var1]*df[var2]\n",
    "    return a"
   ]
  },
  {
   "cell_type": "code",
   "execution_count": 220,
   "metadata": {
    "colab": {
     "base_uri": "https://localhost:8080/",
     "height": 121
    },
    "colab_type": "code",
    "executionInfo": {
     "elapsed": 802,
     "status": "ok",
     "timestamp": 1563669976044,
     "user": {
      "displayName": "Ariel Serravalle",
      "photoUrl": "https://lh4.googleusercontent.com/-suAtWhIByqA/AAAAAAAAAAI/AAAAAAAANh8/1VNRBfDQJ3E/s64/photo.jpg",
      "userId": "14429275652589207839"
     },
     "user_tz": -600
    },
    "id": "dvP8nn9y-DyX",
    "outputId": "2f64114c-17e6-4bb0-b3f5-3137dc6f0aad"
   },
   "outputs": [
    {
     "data": {
      "text/plain": [
       "0    0.0\n",
       "1    0.0\n",
       "2    0.0\n",
       "3    0.0\n",
       "4    0.0\n",
       "Name: high_BP_BMI, dtype: float64"
      ]
     },
     "execution_count": 220,
     "metadata": {},
     "output_type": "execute_result"
    }
   ],
   "source": [
    "     \n",
    "train['high_BP_BMI'] =  Interact(train,'BMI','high_BP') \n",
    "train['high_BP_BMI'].head()\n",
    "test['high_BP_BMI'] =  Interact(test,'BMI','high_BP') \n",
    "test['high_BP_BMI'].head()"
   ]
  },
  {
   "cell_type": "code",
   "execution_count": 221,
   "metadata": {
    "colab": {
     "base_uri": "https://localhost:8080/",
     "height": 121
    },
    "colab_type": "code",
    "executionInfo": {
     "elapsed": 579,
     "status": "ok",
     "timestamp": 1563669976455,
     "user": {
      "displayName": "Ariel Serravalle",
      "photoUrl": "https://lh4.googleusercontent.com/-suAtWhIByqA/AAAAAAAAAAI/AAAAAAAANh8/1VNRBfDQJ3E/s64/photo.jpg",
      "userId": "14429275652589207839"
     },
     "user_tz": -600
    },
    "id": "ZJVKQkfV6CGO",
    "outputId": "2bd87368-da35-4d70-ded4-3fc0fb823d78"
   },
   "outputs": [
    {
     "data": {
      "text/plain": [
       "0    0.0\n",
       "1    0.0\n",
       "2    0.0\n",
       "3    0.0\n",
       "4    0.0\n",
       "Name: Age_HeartCondDet, dtype: float64"
      ]
     },
     "execution_count": 221,
     "metadata": {},
     "output_type": "execute_result"
    }
   ],
   "source": [
    "train['Age_HeartCondDet'] =  Interact(train,'Age','heart_condition_detected_2017') \n",
    "train['Age_HeartCondDet'].head()\n",
    "\n",
    "test['Age_HeartCondDet'] =  Interact(test,'Age','heart_condition_detected_2017') \n",
    "test['Age_HeartCondDet'].head()"
   ]
  },
  {
   "cell_type": "code",
   "execution_count": 222,
   "metadata": {
    "colab": {},
    "colab_type": "code",
    "id": "J98EkbnB4u_F"
   },
   "outputs": [],
   "source": [
    "interacting = ['TreatmentA', 'TreatmentB', 'TreatmentC','TreatmentD']\n",
    "\n",
    "for i in range(len(interacting)):\n",
    "    j = i+1\n",
    "    var1 = interacting[i]\n",
    "    while j <= 3:\n",
    "        var2 = interacting[j]\n",
    "        test[var1+'_'+var2] =  Interact(test,var1,var2) \n",
    "        j +=1"
   ]
  },
  {
   "cell_type": "code",
   "execution_count": 223,
   "metadata": {
    "colab": {
     "base_uri": "https://localhost:8080/",
     "height": 173
    },
    "colab_type": "code",
    "executionInfo": {
     "elapsed": 762,
     "status": "ok",
     "timestamp": 1563669979489,
     "user": {
      "displayName": "Ariel Serravalle",
      "photoUrl": "https://lh4.googleusercontent.com/-suAtWhIByqA/AAAAAAAAAAI/AAAAAAAANh8/1VNRBfDQJ3E/s64/photo.jpg",
      "userId": "14429275652589207839"
     },
     "user_tz": -600
    },
    "id": "b4uIEiyq52pw",
    "outputId": "82c6ef06-e1d2-479a-f6e1-2463198661fc"
   },
   "outputs": [
    {
     "data": {
      "text/plain": [
       "Index(['id', 'high_BP', 'heart_condition_detected_2017', 'married',\n",
       "       'average_blood_sugar', 'BMI', 'TreatmentA', 'TreatmentB', 'TreatmentC',\n",
       "       'TreatmentD', 'Male', 'Female', 'Other', 'Age', 'Quit', 'NonSmoker',\n",
       "       'ActiveSmoker', 'Job: Gov', 'Job: Pvt', 'Job: Bus', 'Job: Unemp',\n",
       "       'Job: Parental', 'Loc: City', 'Loc: Remote', 'high_BP_BMI',\n",
       "       'Age_HeartCondDet', 'TreatmentA_TreatmentB', 'TreatmentA_TreatmentC',\n",
       "       'TreatmentA_TreatmentD', 'TreatmentB_TreatmentC',\n",
       "       'TreatmentB_TreatmentD', 'TreatmentC_TreatmentD'],\n",
       "      dtype='object')"
      ]
     },
     "execution_count": 223,
     "metadata": {},
     "output_type": "execute_result"
    }
   ],
   "source": [
    "test.columns"
   ]
  },
  {
   "cell_type": "markdown",
   "metadata": {
    "colab_type": "text",
    "id": "0jDN05WElSDN"
   },
   "source": [
    "# Light Gradient Boosting\n",
    "The most successful gradient boosting tool we used. Used iterative learning, gradient descent, and boosted random forests to get progressively better. Issues with threshold in the end, as we expected training and testing data to have similar amounts of strokes. This was not the case, adding to the relative innaccuracies of all the participants models."
   ]
  },
  {
   "cell_type": "code",
   "execution_count": 1,
   "metadata": {
    "_cell_guid": "60208a3f-947f-42d9-8f46-2159afd2eb7d",
    "_uuid": "2719663ed461422fce26b5dd55a31ab9718df47a",
    "colab": {},
    "colab_type": "code",
    "id": "MvEGM9sjOScm",
    "scrolled": true
   },
   "outputs": [
    {
     "ename": "ModuleNotFoundError",
     "evalue": "No module named 'lightgbm'",
     "output_type": "error",
     "traceback": [
      "\u001b[1;31m---------------------------------------------------------------------------\u001b[0m",
      "\u001b[1;31mModuleNotFoundError\u001b[0m                       Traceback (most recent call last)",
      "\u001b[1;32m<ipython-input-1-ac8ca9a7aa1d>\u001b[0m in \u001b[0;36m<module>\u001b[1;34m()\u001b[0m\n\u001b[0;32m      1\u001b[0m \u001b[1;32mfrom\u001b[0m \u001b[0msklearn\u001b[0m\u001b[1;33m.\u001b[0m\u001b[0mmodel_selection\u001b[0m \u001b[1;32mimport\u001b[0m \u001b[0mKFold\u001b[0m\u001b[1;33m\u001b[0m\u001b[0m\n\u001b[0;32m      2\u001b[0m \u001b[1;32mfrom\u001b[0m \u001b[0msklearn\u001b[0m\u001b[1;33m.\u001b[0m\u001b[0mmetrics\u001b[0m \u001b[1;32mimport\u001b[0m \u001b[0mroc_auc_score\u001b[0m\u001b[1;33m\u001b[0m\u001b[0m\n\u001b[1;32m----> 3\u001b[1;33m \u001b[1;32mimport\u001b[0m \u001b[0mlightgbm\u001b[0m \u001b[1;32mas\u001b[0m \u001b[0mlgb\u001b[0m\u001b[1;33m\u001b[0m\u001b[0m\n\u001b[0m\u001b[0;32m      4\u001b[0m \u001b[1;32mimport\u001b[0m \u001b[0mgc\u001b[0m\u001b[1;33m\u001b[0m\u001b[0m\n\u001b[0;32m      5\u001b[0m \u001b[1;33m\u001b[0m\u001b[0m\n",
      "\u001b[1;31mModuleNotFoundError\u001b[0m: No module named 'lightgbm'"
     ]
    }
   ],
   "source": [
    "from sklearn.model_selection import KFold\n",
    "from sklearn.metrics import roc_auc_score\n",
    "import lightgbm as lgb\n",
    "import gc\n",
    "\n",
    "def model(features, test_features, encoding = 'ohe', n_folds = 5):\n",
    "    \n",
    "    \"\"\"Train and test a light gradient boosting model using\n",
    "    cross validation. \n",
    "    \n",
    "    Parameters\n",
    "    --------\n",
    "        features (pd.DataFrame): \n",
    "            dataframe of training features to use \n",
    "            for training a model. Must include the stroke_in_2018 column.\n",
    "        test_features (pd.DataFrame): \n",
    "            dataframe of testing features to use\n",
    "            for making predictions with the model. \n",
    "        encoding (str, default = 'ohe'): \n",
    "            method for encoding categorical variables. Either 'ohe' for one-hot encoding or 'le' for integer label encoding\n",
    "            n_folds (int, default = 5): number of folds to use for cross validation\n",
    "        \n",
    "    Return\n",
    "    --------\n",
    "        submission (pd.DataFrame): \n",
    "            dataframe with `id` and `stroke_in_2018` probabilities\n",
    "            predicted by the model.\n",
    "        feature_importances (pd.DataFrame): \n",
    "            dataframe with the feature importances from the model.\n",
    "        valid_metrics (pd.DataFrame): \n",
    "            dataframe with training and validation metrics (ROC AUC) for each fold and overall.\n",
    "        \n",
    "    \"\"\"\n",
    "    \n",
    "    # Extract the ids\n",
    "    train_ids = features['id']\n",
    "    test_ids = test_features['id']\n",
    "    \n",
    "    # Extract the labels for training\n",
    "    labels = features['stroke_in_2018']\n",
    "    \n",
    "    # Remove the ids and target\n",
    "    features = features.drop(columns = ['id', 'stroke_in_2018'])\n",
    "    test_features = test_features.drop(columns = ['id'])\n",
    "    \n",
    "    \n",
    "    # One Hot Encoding\n",
    "    if encoding == 'ohe':\n",
    "        features = pd.get_dummies(features)\n",
    "        test_features = pd.get_dummies(test_features)\n",
    "        \n",
    "        # Align the dataframes by the columns\n",
    "        features, test_features = features.align(test_features, join = 'inner', axis = 1)\n",
    "        \n",
    "        # No categorical indices to record\n",
    "        cat_indices = 'auto'\n",
    "    \n",
    "    # Integer label encoding\n",
    "    elif encoding == 'le':\n",
    "        \n",
    "        # Create a label encoder\n",
    "        label_encoder = LabelEncoder()\n",
    "        \n",
    "        # List for storing categorical indices\n",
    "        cat_indices = []\n",
    "        \n",
    "        # Iterate through each column\n",
    "        for i, col in enumerate(features):\n",
    "            if features[col].dtype == 'object':\n",
    "                # Map the categorical features to integers\n",
    "                features[col] = label_encoder.fit_transform(np.array(features[col].astype(str)).reshape((-1,)))\n",
    "                test_features[col] = label_encoder.transform(np.array(test_features[col].astype(str)).reshape((-1,)))\n",
    "\n",
    "                # Record the categorical indices\n",
    "                cat_indices.append(i)\n",
    "    \n",
    "    # Catch error if label encoding scheme is not valid\n",
    "    else:\n",
    "        raise ValueError(\"Encoding must be either 'ohe' or 'le'\")\n",
    "        \n",
    "    print('Training Data Shape: ', features.shape)\n",
    "    print('Testing Data Shape: ', test_features.shape)\n",
    "    \n",
    "    # Extract feature names\n",
    "    feature_names = list(features.columns)\n",
    "    \n",
    "    # Convert to np arrays\n",
    "    features = np.array(features)\n",
    "    test_features = np.array(test_features)\n",
    "    \n",
    "    # Create the kfold object\n",
    "    k_fold = KFold(n_splits = n_folds, shuffle = True, random_state = 50)\n",
    "    \n",
    "    # Empty array for feature importances\n",
    "    feature_importance_values = np.zeros(len(feature_names))\n",
    "    \n",
    "    # Empty array for test predictions\n",
    "    test_predictions = np.zeros(test_features.shape[0])\n",
    "    \n",
    "    # Empty array for out of fold validation predictions\n",
    "    out_of_fold = np.zeros(features.shape[0])\n",
    "    \n",
    "    # Lists for recording validation and training scores\n",
    "    valid_scores = []\n",
    "    train_scores = []\n",
    "    \n",
    "    # Iterate through each fold\n",
    "    for train_indices, valid_indices in k_fold.split(features):\n",
    "        \n",
    "        # Training data for the fold\n",
    "        train_features, train_labels = features[train_indices], labels[train_indices]\n",
    "        # Validation data for the fold\n",
    "        valid_features, valid_labels = features[valid_indices], labels[valid_indices]\n",
    "        \n",
    "        # Create the model\n",
    "        model = lgb.LGBMClassifier(n_estimators=10000, objective = 'binary', \n",
    "                                   class_weight = 'balanced', learning_rate = 0.05, \n",
    "                                   reg_alpha = 0.1, reg_lambda = 0.1, \n",
    "                                   subsample = 0.8, n_jobs = -1, random_state = 50)\n",
    "        \n",
    "        # Train the model\n",
    "        model.fit(train_features, train_labels, eval_metric = 'auc',\n",
    "                  eval_set = [(valid_features, valid_labels), (train_features, train_labels)],\n",
    "                  eval_names = ['valid', 'train'], categorical_feature = cat_indices,\n",
    "                  early_stopping_rounds = 100, verbose = 200)\n",
    "        \n",
    "        # Record the best iteration\n",
    "        best_iteration = model.best_iteration_\n",
    "        \n",
    "        # Record the feature importances\n",
    "        feature_importance_values += model.feature_importances_ / k_fold.n_splits\n",
    "        \n",
    "        # Make predictions\n",
    "        test_predictions += model.predict_proba(test_features, num_iteration = best_iteration)[:, 1] / k_fold.n_splits\n",
    "        \n",
    "        # Record the out of fold predictions\n",
    "        out_of_fold[valid_indices] = model.predict_proba(valid_features, num_iteration = best_iteration)[:, 1]\n",
    "        \n",
    "        # Record the best score\n",
    "        valid_score = model.best_score_['valid']['auc']\n",
    "        train_score = model.best_score_['train']['auc']\n",
    "        \n",
    "        valid_scores.append(valid_score)\n",
    "        train_scores.append(train_score)\n",
    "        \n",
    "        # Clean up memory\n",
    "        gc.enable()\n",
    "        del model, train_features, valid_features\n",
    "        gc.collect()\n",
    "\n",
    "    # Make the submission dataframe\n",
    "    submission = pd.DataFrame({'id': test_ids, 'stroke_in_2018': test_predictions})\n",
    "    \n",
    "    # Make the feature importance dataframe\n",
    "    feature_importances = pd.DataFrame({'feature': feature_names, 'importance': feature_importance_values})\n",
    "    \n",
    "    # Overall validation score\n",
    "    valid_auc = roc_auc_score(labels, out_of_fold)\n",
    "    \n",
    "    # Add the overall scores to the metrics\n",
    "    valid_scores.append(valid_auc)\n",
    "    train_scores.append(np.mean(train_scores))\n",
    "    \n",
    "    # Needed for creating dataframe of validation scores\n",
    "    fold_names = list(range(n_folds))\n",
    "    fold_names.append('overall')\n",
    "    \n",
    "    # Dataframe of validation scores\n",
    "    metrics = pd.DataFrame({'fold': fold_names,\n",
    "                            'train': train_scores,\n",
    "                            'valid': valid_scores}) \n",
    "    \n",
    "    return submission, feature_importances, metrics"
   ]
  },
  {
   "cell_type": "code",
   "execution_count": 225,
   "metadata": {
    "_uuid": "89e02dcbb23e47e3504ed1f61431b182e2011ba5",
    "colab": {
     "base_uri": "https://localhost:8080/",
     "height": 471
    },
    "colab_type": "code",
    "executionInfo": {
     "elapsed": 8054,
     "status": "ok",
     "timestamp": 1563673242358,
     "user": {
      "displayName": "Ariel Serravalle",
      "photoUrl": "https://lh4.googleusercontent.com/-suAtWhIByqA/AAAAAAAAAAI/AAAAAAAANh8/1VNRBfDQJ3E/s64/photo.jpg",
      "userId": "14429275652589207839"
     },
     "user_tz": -600
    },
    "id": "MDg3IZP8OSco",
    "outputId": "1cd96794-4304-47f0-a349-43fc5c14e31e"
   },
   "outputs": [
    {
     "ename": "NameError",
     "evalue": "name 'model' is not defined",
     "output_type": "error",
     "traceback": [
      "\u001b[1;31m---------------------------------------------------------------------------\u001b[0m",
      "\u001b[1;31mNameError\u001b[0m                                 Traceback (most recent call last)",
      "\u001b[1;32m<ipython-input-225-5661b5e39ec4>\u001b[0m in \u001b[0;36m<module>\u001b[1;34m()\u001b[0m\n\u001b[1;32m----> 1\u001b[1;33m \u001b[0msubmission\u001b[0m\u001b[1;33m,\u001b[0m \u001b[0mfi\u001b[0m\u001b[1;33m,\u001b[0m \u001b[0mmetrics\u001b[0m \u001b[1;33m=\u001b[0m \u001b[0mmodel\u001b[0m\u001b[1;33m(\u001b[0m\u001b[0mtrain\u001b[0m\u001b[1;33m,\u001b[0m \u001b[0mtest\u001b[0m\u001b[1;33m)\u001b[0m\u001b[1;33m\u001b[0m\u001b[0m\n\u001b[0m\u001b[0;32m      2\u001b[0m \u001b[0mprint\u001b[0m\u001b[1;33m(\u001b[0m\u001b[1;34m'Baseline metrics'\u001b[0m\u001b[1;33m)\u001b[0m\u001b[1;33m\u001b[0m\u001b[0m\n\u001b[0;32m      3\u001b[0m \u001b[0mprint\u001b[0m\u001b[1;33m(\u001b[0m\u001b[0mmetrics\u001b[0m\u001b[1;33m)\u001b[0m\u001b[1;33m\u001b[0m\u001b[0m\n",
      "\u001b[1;31mNameError\u001b[0m: name 'model' is not defined"
     ]
    }
   ],
   "source": [
    "submission, fi, metrics = model(train, test)\n",
    "print('Baseline metrics')\n",
    "print(metrics)"
   ]
  },
  {
   "cell_type": "code",
   "execution_count": 0,
   "metadata": {
    "colab": {
     "base_uri": "https://localhost:8080/",
     "height": 190
    },
    "colab_type": "code",
    "executionInfo": {
     "elapsed": 8776,
     "status": "ok",
     "timestamp": 1563670121847,
     "user": {
      "displayName": "Ariel Serravalle",
      "photoUrl": "https://lh4.googleusercontent.com/-suAtWhIByqA/AAAAAAAAAAI/AAAAAAAANh8/1VNRBfDQJ3E/s64/photo.jpg",
      "userId": "14429275652589207839"
     },
     "user_tz": -600
    },
    "id": "Xcrne0GPsu-q",
    "outputId": "cbf1e9fb-e227-49f6-a352-063e0498c8f4"
   },
   "outputs": [
    {
     "name": "stderr",
     "output_type": "stream",
     "text": [
      "/usr/local/lib/python3.6/dist-packages/ipykernel_launcher.py:1: SettingWithCopyWarning: \n",
      "A value is trying to be set on a copy of a slice from a DataFrame\n",
      "\n",
      "See the caveats in the documentation: http://pandas.pydata.org/pandas-docs/stable/indexing.html#indexing-view-versus-copy\n",
      "  \"\"\"Entry point for launching an IPython kernel.\n",
      "/usr/local/lib/python3.6/dist-packages/ipykernel_launcher.py:2: SettingWithCopyWarning: \n",
      "A value is trying to be set on a copy of a slice from a DataFrame\n",
      "\n",
      "See the caveats in the documentation: http://pandas.pydata.org/pandas-docs/stable/indexing.html#indexing-view-versus-copy\n",
      "  \n"
     ]
    }
   ],
   "source": [
    "submission['stroke_in_2018'][submission['stroke_in_2018'] > 0.22] = 1\n",
    "submission['stroke_in_2018'][submission['stroke_in_2018'] <= 0.22] = 0"
   ]
  },
  {
   "cell_type": "code",
   "execution_count": 0,
   "metadata": {
    "colab": {
     "base_uri": "https://localhost:8080/",
     "height": 294
    },
    "colab_type": "code",
    "executionInfo": {
     "elapsed": 8208,
     "status": "ok",
     "timestamp": 1563670121857,
     "user": {
      "displayName": "Ariel Serravalle",
      "photoUrl": "https://lh4.googleusercontent.com/-suAtWhIByqA/AAAAAAAAAAI/AAAAAAAANh8/1VNRBfDQJ3E/s64/photo.jpg",
      "userId": "14429275652589207839"
     },
     "user_tz": -600
    },
    "id": "kZUQUM2OqZel",
    "outputId": "6adb20b7-813e-4975-c8e7-4ccd0b4d3491"
   },
   "outputs": [
    {
     "data": {
      "text/html": [
       "<div>\n",
       "<style scoped>\n",
       "    .dataframe tbody tr th:only-of-type {\n",
       "        vertical-align: middle;\n",
       "    }\n",
       "\n",
       "    .dataframe tbody tr th {\n",
       "        vertical-align: top;\n",
       "    }\n",
       "\n",
       "    .dataframe thead th {\n",
       "        text-align: right;\n",
       "    }\n",
       "</style>\n",
       "<table border=\"1\" class=\"dataframe\">\n",
       "  <thead>\n",
       "    <tr style=\"text-align: right;\">\n",
       "      <th></th>\n",
       "      <th>id</th>\n",
       "      <th>stroke_in_2018</th>\n",
       "    </tr>\n",
       "  </thead>\n",
       "  <tbody>\n",
       "    <tr>\n",
       "      <th>count</th>\n",
       "      <td>8718.000000</td>\n",
       "      <td>8718.000000</td>\n",
       "    </tr>\n",
       "    <tr>\n",
       "      <th>mean</th>\n",
       "      <td>21711.645102</td>\n",
       "      <td>0.434045</td>\n",
       "    </tr>\n",
       "    <tr>\n",
       "      <th>std</th>\n",
       "      <td>12653.568917</td>\n",
       "      <td>0.495659</td>\n",
       "    </tr>\n",
       "    <tr>\n",
       "      <th>min</th>\n",
       "      <td>0.000000</td>\n",
       "      <td>0.000000</td>\n",
       "    </tr>\n",
       "    <tr>\n",
       "      <th>25%</th>\n",
       "      <td>10741.500000</td>\n",
       "      <td>0.000000</td>\n",
       "    </tr>\n",
       "    <tr>\n",
       "      <th>50%</th>\n",
       "      <td>21764.500000</td>\n",
       "      <td>0.000000</td>\n",
       "    </tr>\n",
       "    <tr>\n",
       "      <th>75%</th>\n",
       "      <td>32644.750000</td>\n",
       "      <td>1.000000</td>\n",
       "    </tr>\n",
       "    <tr>\n",
       "      <th>max</th>\n",
       "      <td>43580.000000</td>\n",
       "      <td>1.000000</td>\n",
       "    </tr>\n",
       "  </tbody>\n",
       "</table>\n",
       "</div>"
      ],
      "text/plain": [
       "                 id  stroke_in_2018\n",
       "count   8718.000000     8718.000000\n",
       "mean   21711.645102        0.434045\n",
       "std    12653.568917        0.495659\n",
       "min        0.000000        0.000000\n",
       "25%    10741.500000        0.000000\n",
       "50%    21764.500000        0.000000\n",
       "75%    32644.750000        1.000000\n",
       "max    43580.000000        1.000000"
      ]
     },
     "execution_count": 115,
     "metadata": {
      "tags": []
     },
     "output_type": "execute_result"
    }
   ],
   "source": [
    "submission.describe()"
   ]
  },
  {
   "cell_type": "code",
   "execution_count": 0,
   "metadata": {
    "_uuid": "d71f9d7b9b322824704eec9dc82e38a480d4f76c",
    "colab": {},
    "colab_type": "code",
    "id": "9TdRBUFAOScq"
   },
   "outputs": [],
   "source": [
    "submission.to_csv('submission.csv', index = False)"
   ]
  },
  {
   "cell_type": "markdown",
   "metadata": {
    "colab_type": "text",
    "id": "DKWuLt6GNMf_"
   },
   "source": [
    "# Review\n",
    "Data cleaning went well\n",
    "Feature engineering should've been done sooner, and we should've done selection\n",
    "Cut straight to the better models after preprocessing - XGBoost and neural nets, now you know how to use them"
   ]
  }
 ],
 "metadata": {
  "colab": {
   "collapsed_sections": [
    "wgAtzb183DBi",
    "tPkSCvj6vo_F",
    "H05w1s60azX8",
    "yAFx6Tpt8XX7",
    "lOZsCOzW7G3s"
   ],
   "name": "DataSoc_Hack.ipynb",
   "provenance": [],
   "version": "0.3.2"
  },
  "kernelspec": {
   "display_name": "Python 3",
   "language": "python",
   "name": "python3"
  },
  "language_info": {
   "codemirror_mode": {
    "name": "ipython",
    "version": 3
   },
   "file_extension": ".py",
   "mimetype": "text/x-python",
   "name": "python",
   "nbconvert_exporter": "python",
   "pygments_lexer": "ipython3",
   "version": "3.6.5"
  }
 },
 "nbformat": 4,
 "nbformat_minor": 1
}
